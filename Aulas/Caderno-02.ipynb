{
 "cells": [
  {
   "cell_type": "markdown",
   "metadata": {},
   "source": [
    "# Introdução Data Science - Ana Beatriz Macedo<img src=\"https://octocat-generator-assets.githubusercontent.com/my-octocat-1626096942740.png\" width=\"324\" height=\"324\" align=\"right\">\n",
    "## Link para download: https://github.com/AnabeatrizMacedo241/DataScience-101\n",
    "## Github: https://github.com/AnabeatrizMacedo241\n",
    "## Linkedin: https://www.linkedin.com/in/ana-beatriz-oliveira-de-macedo-85b05b215/"
   ]
  },
  {
   "cell_type": "markdown",
   "metadata": {},
   "source": [
    "Documentação Pandas: https://pandas.pydata.org/pandas-docs/stable/index.html\n",
    "![blue-divider](https://user-images.githubusercontent.com/7065401/52071924-c003ad80-2562-11e9-8297-1c6595f8a7ff.png)"
   ]
  },
  {
   "cell_type": "code",
   "execution_count": 157,
   "metadata": {},
   "outputs": [],
   "source": [
    "import pandas as pd\n",
    "imdb_review = pd.read_csv('IMDB_movie_reviews_details.csv', header=0, sep=',')\n",
    "imdb_review['votes'] = [x.replace(',', '.') for x in imdb_review['votes']]\n",
    "imdb_review['gross'] = [x.replace('M', '') for x in imdb_review['gross']]\n",
    "imdb_review['gross'] = [x.replace('$', '') for x in imdb_review['gross']]\n",
    "del imdb_review['Unnamed: 0']\n",
    "imdb_review.drop(['Unnamed: 0'], axis = 1) #Aqui é um outro jeito de deletar colunas\n",
    "imdb_review.drop(['Unnamed: 0'], axis=1,inplace=True)\n",
    "#Retomando a aula passado com o gráfico imdb_review"
   ]
  },
  {
   "cell_type": "code",
   "execution_count": 158,
   "metadata": {},
   "outputs": [
    {
     "data": {
      "text/html": [
       "<div>\n",
       "<style scoped>\n",
       "    .dataframe tbody tr th:only-of-type {\n",
       "        vertical-align: middle;\n",
       "    }\n",
       "\n",
       "    .dataframe tbody tr th {\n",
       "        vertical-align: top;\n",
       "    }\n",
       "\n",
       "    .dataframe thead th {\n",
       "        text-align: right;\n",
       "    }\n",
       "</style>\n",
       "<table border=\"1\" class=\"dataframe\">\n",
       "  <thead>\n",
       "    <tr style=\"text-align: right;\">\n",
       "      <th></th>\n",
       "      <th>name</th>\n",
       "      <th>year</th>\n",
       "      <th>runtime</th>\n",
       "      <th>genre</th>\n",
       "      <th>rating</th>\n",
       "      <th>metascore</th>\n",
       "      <th>timeline</th>\n",
       "      <th>votes</th>\n",
       "      <th>gross</th>\n",
       "    </tr>\n",
       "  </thead>\n",
       "  <tbody>\n",
       "    <tr>\n",
       "      <th>0</th>\n",
       "      <td>The Shawshank Redemption</td>\n",
       "      <td>1994</td>\n",
       "      <td>142</td>\n",
       "      <td>Drama</td>\n",
       "      <td>9.3</td>\n",
       "      <td>80.0</td>\n",
       "      <td>Two imprisoned men bond over a number of years...</td>\n",
       "      <td>2.394.059</td>\n",
       "      <td>28.34</td>\n",
       "    </tr>\n",
       "    <tr>\n",
       "      <th>1</th>\n",
       "      <td>The Godfather</td>\n",
       "      <td>1972</td>\n",
       "      <td>175</td>\n",
       "      <td>Crime, Drama</td>\n",
       "      <td>9.2</td>\n",
       "      <td>100.0</td>\n",
       "      <td>An organized crime dynasty's aging patriarch t...</td>\n",
       "      <td>1.658.439</td>\n",
       "      <td>134.97</td>\n",
       "    </tr>\n",
       "    <tr>\n",
       "      <th>2</th>\n",
       "      <td>The Dark Knight</td>\n",
       "      <td>2008</td>\n",
       "      <td>152</td>\n",
       "      <td>Action, Crime, Drama</td>\n",
       "      <td>9.0</td>\n",
       "      <td>84.0</td>\n",
       "      <td>When the menace known as the Joker wreaks havo...</td>\n",
       "      <td>2.355.907</td>\n",
       "      <td>534.86</td>\n",
       "    </tr>\n",
       "    <tr>\n",
       "      <th>3</th>\n",
       "      <td>The Godfather: Part II</td>\n",
       "      <td>1974</td>\n",
       "      <td>202</td>\n",
       "      <td>Crime, Drama</td>\n",
       "      <td>9.0</td>\n",
       "      <td>90.0</td>\n",
       "      <td>The early life and career of Vito Corleone in ...</td>\n",
       "      <td>1.152.912</td>\n",
       "      <td>57.30</td>\n",
       "    </tr>\n",
       "    <tr>\n",
       "      <th>4</th>\n",
       "      <td>12 Angry Men</td>\n",
       "      <td>1957</td>\n",
       "      <td>96</td>\n",
       "      <td>Crime, Drama</td>\n",
       "      <td>9.0</td>\n",
       "      <td>96.0</td>\n",
       "      <td>A jury holdout attempts to prevent a miscarria...</td>\n",
       "      <td>706.079</td>\n",
       "      <td>4.36</td>\n",
       "    </tr>\n",
       "    <tr>\n",
       "      <th>...</th>\n",
       "      <td>...</td>\n",
       "      <td>...</td>\n",
       "      <td>...</td>\n",
       "      <td>...</td>\n",
       "      <td>...</td>\n",
       "      <td>...</td>\n",
       "      <td>...</td>\n",
       "      <td>...</td>\n",
       "      <td>...</td>\n",
       "    </tr>\n",
       "    <tr>\n",
       "      <th>742</th>\n",
       "      <td>Kelly's Heroes</td>\n",
       "      <td>1970</td>\n",
       "      <td>144</td>\n",
       "      <td>Adventure, Comedy, War</td>\n",
       "      <td>7.6</td>\n",
       "      <td>50.0</td>\n",
       "      <td>A group of U.S. soldiers sneaks across enemy l...</td>\n",
       "      <td>45.985</td>\n",
       "      <td>1.38</td>\n",
       "    </tr>\n",
       "    <tr>\n",
       "      <th>743</th>\n",
       "      <td>The Jungle Book</td>\n",
       "      <td>1967</td>\n",
       "      <td>78</td>\n",
       "      <td>Animation, Adventure, Family</td>\n",
       "      <td>7.6</td>\n",
       "      <td>65.0</td>\n",
       "      <td>Bagheera the Panther and Baloo the Bear have a...</td>\n",
       "      <td>168.985</td>\n",
       "      <td>141.84</td>\n",
       "    </tr>\n",
       "    <tr>\n",
       "      <th>744</th>\n",
       "      <td>A Hard Day's Night</td>\n",
       "      <td>1964</td>\n",
       "      <td>87</td>\n",
       "      <td>Comedy, Musical</td>\n",
       "      <td>7.6</td>\n",
       "      <td>96.0</td>\n",
       "      <td>Over two \"typical\" days in the life of The Bea...</td>\n",
       "      <td>40.931</td>\n",
       "      <td>13.78</td>\n",
       "    </tr>\n",
       "    <tr>\n",
       "      <th>745</th>\n",
       "      <td>Shane</td>\n",
       "      <td>1953</td>\n",
       "      <td>118</td>\n",
       "      <td>Drama, Western</td>\n",
       "      <td>7.6</td>\n",
       "      <td>80.0</td>\n",
       "      <td>A weary gunfighter attempts to settle down wit...</td>\n",
       "      <td>37.753</td>\n",
       "      <td>20.00</td>\n",
       "    </tr>\n",
       "    <tr>\n",
       "      <th>746</th>\n",
       "      <td>From Here to Eternity</td>\n",
       "      <td>1953</td>\n",
       "      <td>118</td>\n",
       "      <td>Drama, Romance, War</td>\n",
       "      <td>7.6</td>\n",
       "      <td>85.0</td>\n",
       "      <td>In Hawaii in 1941, a private is cruelly punish...</td>\n",
       "      <td>44.086</td>\n",
       "      <td>30.50</td>\n",
       "    </tr>\n",
       "  </tbody>\n",
       "</table>\n",
       "<p>747 rows × 9 columns</p>\n",
       "</div>"
      ],
      "text/plain": [
       "                         name  year  runtime                         genre  \\\n",
       "0    The Shawshank Redemption  1994      142                         Drama   \n",
       "1               The Godfather  1972      175                  Crime, Drama   \n",
       "2             The Dark Knight  2008      152          Action, Crime, Drama   \n",
       "3      The Godfather: Part II  1974      202                  Crime, Drama   \n",
       "4                12 Angry Men  1957       96                  Crime, Drama   \n",
       "..                        ...   ...      ...                           ...   \n",
       "742            Kelly's Heroes  1970      144        Adventure, Comedy, War   \n",
       "743           The Jungle Book  1967       78  Animation, Adventure, Family   \n",
       "744        A Hard Day's Night  1964       87               Comedy, Musical   \n",
       "745                     Shane  1953      118                Drama, Western   \n",
       "746     From Here to Eternity  1953      118           Drama, Romance, War   \n",
       "\n",
       "     rating  metascore                                           timeline  \\\n",
       "0       9.3       80.0  Two imprisoned men bond over a number of years...   \n",
       "1       9.2      100.0  An organized crime dynasty's aging patriarch t...   \n",
       "2       9.0       84.0  When the menace known as the Joker wreaks havo...   \n",
       "3       9.0       90.0  The early life and career of Vito Corleone in ...   \n",
       "4       9.0       96.0  A jury holdout attempts to prevent a miscarria...   \n",
       "..      ...        ...                                                ...   \n",
       "742     7.6       50.0  A group of U.S. soldiers sneaks across enemy l...   \n",
       "743     7.6       65.0  Bagheera the Panther and Baloo the Bear have a...   \n",
       "744     7.6       96.0  Over two \"typical\" days in the life of The Bea...   \n",
       "745     7.6       80.0  A weary gunfighter attempts to settle down wit...   \n",
       "746     7.6       85.0  In Hawaii in 1941, a private is cruelly punish...   \n",
       "\n",
       "         votes   gross  \n",
       "0    2.394.059   28.34  \n",
       "1    1.658.439  134.97  \n",
       "2    2.355.907  534.86  \n",
       "3    1.152.912   57.30  \n",
       "4      706.079    4.36  \n",
       "..         ...     ...  \n",
       "742     45.985    1.38  \n",
       "743    168.985  141.84  \n",
       "744     40.931   13.78  \n",
       "745     37.753   20.00  \n",
       "746     44.086   30.50  \n",
       "\n",
       "[747 rows x 9 columns]"
      ]
     },
     "execution_count": 158,
     "metadata": {},
     "output_type": "execute_result"
    }
   ],
   "source": [
    "imdb_review"
   ]
  },
  {
   "cell_type": "code",
   "execution_count": 159,
   "metadata": {},
   "outputs": [
    {
     "name": "stdout",
     "output_type": "stream",
     "text": [
      "<class 'pandas.core.frame.DataFrame'>\n",
      "RangeIndex: 747 entries, 0 to 746\n",
      "Data columns (total 9 columns):\n",
      " #   Column     Non-Null Count  Dtype  \n",
      "---  ------     --------------  -----  \n",
      " 0   name       747 non-null    object \n",
      " 1   year       747 non-null    object \n",
      " 2   runtime    747 non-null    int64  \n",
      " 3   genre      747 non-null    object \n",
      " 4   rating     747 non-null    float64\n",
      " 5   metascore  747 non-null    float64\n",
      " 6   timeline   747 non-null    object \n",
      " 7   votes      747 non-null    object \n",
      " 8   gross      747 non-null    object \n",
      "dtypes: float64(2), int64(1), object(6)\n",
      "memory usage: 52.6+ KB\n"
     ]
    }
   ],
   "source": [
    "imdb_review.info() #apesar de serem números 'votes'e 'gross'ainda estão como strings"
   ]
  },
  {
   "cell_type": "code",
   "execution_count": 160,
   "metadata": {},
   "outputs": [
    {
     "name": "stdout",
     "output_type": "stream",
     "text": [
      "<class 'pandas.core.frame.DataFrame'>\n",
      "RangeIndex: 747 entries, 0 to 746\n",
      "Data columns (total 9 columns):\n",
      " #   Column     Non-Null Count  Dtype  \n",
      "---  ------     --------------  -----  \n",
      " 0   name       747 non-null    object \n",
      " 1   year       747 non-null    object \n",
      " 2   runtime    747 non-null    int64  \n",
      " 3   genre      747 non-null    object \n",
      " 4   rating     747 non-null    float64\n",
      " 5   metascore  747 non-null    float64\n",
      " 6   timeline   747 non-null    object \n",
      " 7   votes      702 non-null    float64\n",
      " 8   gross      747 non-null    float32\n",
      "dtypes: float32(1), float64(3), int64(1), object(4)\n",
      "memory usage: 49.7+ KB\n"
     ]
    }
   ],
   "source": [
    "imdb_review[\"gross\"] = pd.to_numeric(imdb_review[\"gross\"], downcast=\"float\")\n",
    "imdb_review[\"votes\"] = pd.to_numeric(imdb_review[\"votes\"], errors=\"coerce\")\n",
    "imdb_review.info()"
   ]
  },
  {
   "cell_type": "code",
   "execution_count": 161,
   "metadata": {},
   "outputs": [
    {
     "data": {
      "text/plain": [
       "123.3293172690763"
      ]
     },
     "execution_count": 161,
     "metadata": {},
     "output_type": "execute_result"
    }
   ],
   "source": [
    "media = imdb_review['runtime'].mean()\n",
    "media #A média de tempo dos filmes é de aproximadamente 2 horas."
   ]
  },
  {
   "cell_type": "code",
   "execution_count": 162,
   "metadata": {},
   "outputs": [
    {
     "data": {
      "text/plain": [
       "120.0"
      ]
     },
     "execution_count": 162,
     "metadata": {},
     "output_type": "execute_result"
    }
   ],
   "source": [
    "mediana = imdb_review['runtime'].median()\n",
    "mediana #A mediana"
   ]
  },
  {
   "cell_type": "code",
   "execution_count": 163,
   "metadata": {},
   "outputs": [
    {
     "data": {
      "text/plain": [
       "130"
      ]
     },
     "execution_count": 163,
     "metadata": {},
     "output_type": "execute_result"
    }
   ],
   "source": [
    "moda = imdb_review['runtime'].mode()[0]\n",
    "moda #E a suma moda, que é o valor que mais aparece "
   ]
  },
  {
   "cell_type": "code",
   "execution_count": 164,
   "metadata": {},
   "outputs": [
    {
     "name": "stdout",
     "output_type": "stream",
     "text": [
      "0      False\n",
      "1      False\n",
      "2      False\n",
      "3      False\n",
      "4      False\n",
      "       ...  \n",
      "742    False\n",
      "743    False\n",
      "744    False\n",
      "745    False\n",
      "746    False\n",
      "Length: 747, dtype: bool\n"
     ]
    }
   ],
   "source": [
    "print(imdb_review.duplicated()) \n",
    "#Com duplicated() nós podemos checar se as linhas estão se repetindo."
   ]
  },
  {
   "cell_type": "code",
   "execution_count": 165,
   "metadata": {},
   "outputs": [],
   "source": [
    "#Caso existirem, removemos elas\n",
    "imdb_review.drop_duplicates(inplace = True)"
   ]
  },
  {
   "cell_type": "code",
   "execution_count": 166,
   "metadata": {},
   "outputs": [
    {
     "data": {
      "text/html": [
       "<div>\n",
       "<style scoped>\n",
       "    .dataframe tbody tr th:only-of-type {\n",
       "        vertical-align: middle;\n",
       "    }\n",
       "\n",
       "    .dataframe tbody tr th {\n",
       "        vertical-align: top;\n",
       "    }\n",
       "\n",
       "    .dataframe thead th {\n",
       "        text-align: right;\n",
       "    }\n",
       "</style>\n",
       "<table border=\"1\" class=\"dataframe\">\n",
       "  <thead>\n",
       "    <tr style=\"text-align: right;\">\n",
       "      <th></th>\n",
       "      <th>runtime</th>\n",
       "      <th>rating</th>\n",
       "      <th>metascore</th>\n",
       "      <th>votes</th>\n",
       "      <th>gross</th>\n",
       "    </tr>\n",
       "  </thead>\n",
       "  <tbody>\n",
       "    <tr>\n",
       "      <th>runtime</th>\n",
       "      <td>1.000000</td>\n",
       "      <td>0.254789</td>\n",
       "      <td>-0.012727</td>\n",
       "      <td>0.069107</td>\n",
       "      <td>0.173930</td>\n",
       "    </tr>\n",
       "    <tr>\n",
       "      <th>rating</th>\n",
       "      <td>0.254789</td>\n",
       "      <td>1.000000</td>\n",
       "      <td>0.283134</td>\n",
       "      <td>0.376014</td>\n",
       "      <td>0.119698</td>\n",
       "    </tr>\n",
       "    <tr>\n",
       "      <th>metascore</th>\n",
       "      <td>-0.012727</td>\n",
       "      <td>0.283134</td>\n",
       "      <td>1.000000</td>\n",
       "      <td>-0.026609</td>\n",
       "      <td>-0.038429</td>\n",
       "    </tr>\n",
       "    <tr>\n",
       "      <th>votes</th>\n",
       "      <td>0.069107</td>\n",
       "      <td>0.376014</td>\n",
       "      <td>-0.026609</td>\n",
       "      <td>1.000000</td>\n",
       "      <td>0.571879</td>\n",
       "    </tr>\n",
       "    <tr>\n",
       "      <th>gross</th>\n",
       "      <td>0.173930</td>\n",
       "      <td>0.119698</td>\n",
       "      <td>-0.038429</td>\n",
       "      <td>0.571879</td>\n",
       "      <td>1.000000</td>\n",
       "    </tr>\n",
       "  </tbody>\n",
       "</table>\n",
       "</div>"
      ],
      "text/plain": [
       "            runtime    rating  metascore     votes     gross\n",
       "runtime    1.000000  0.254789  -0.012727  0.069107  0.173930\n",
       "rating     0.254789  1.000000   0.283134  0.376014  0.119698\n",
       "metascore -0.012727  0.283134   1.000000 -0.026609 -0.038429\n",
       "votes      0.069107  0.376014  -0.026609  1.000000  0.571879\n",
       "gross      0.173930  0.119698  -0.038429  0.571879  1.000000"
      ]
     },
     "execution_count": 166,
     "metadata": {},
     "output_type": "execute_result"
    }
   ],
   "source": [
    "#corr são as correlações entre as colunas e seus resultados variam de -1 a 1(A correlação perfeita).\n",
    "#Vemos essa correlação perfeita na linha runtime, na linha rating e na linha metascore.\n",
    "imdb_review.corr()"
   ]
  },
  {
   "cell_type": "markdown",
   "metadata": {},
   "source": [
    "![blue-divider](https://user-images.githubusercontent.com/7065401/52071924-c003ad80-2562-11e9-8297-1c6595f8a7ff.png)\n",
    "\n",
    "Agora será mais interessante, pois entenderemos melhor os dados da tabela criando gráficos!\n",
    "Essa é a documentação da biblioteca que iremos usar para essa aula: https://matplotlib.org/stable/api/_as_gen/matplotlib.pyplot.html"
   ]
  },
  {
   "cell_type": "code",
   "execution_count": 167,
   "metadata": {},
   "outputs": [
    {
     "data": {
      "text/plain": [
       "<function matplotlib.pyplot.show(close=None, block=None)>"
      ]
     },
     "execution_count": 167,
     "metadata": {},
     "output_type": "execute_result"
    },
    {
     "data": {
      "image/png": "[encoded data removed]",
      "text/plain": [
       "<Figure size 432x288 with 1 Axes>"
      ]
     },
     "metadata": {
      "needs_background": "light"
     },
     "output_type": "display_data"
    }
   ],
   "source": [
    "#Iremos importar uma bilioteca para isso\n",
    "import matplotlib.pyplot as plt\n",
    "imdb_review.plot() #Aqui retorna um gráfico com todos os valores, mas ainda fica difícil obtermos informações dele\n",
    "plt.show"
   ]
  },
  {
   "cell_type": "code",
   "execution_count": 168,
   "metadata": {},
   "outputs": [
    {
     "data": {
      "text/plain": [
       "<AxesSubplot:ylabel='Frequency'>"
      ]
     },
     "execution_count": 168,
     "metadata": {},
     "output_type": "execute_result"
    },
    {
     "data": {
      "image/png": "[encoded data removed]",
      "text/plain": [
       "<Figure size 432x288 with 1 Axes>"
      ]
     },
     "metadata": {
      "needs_background": "light"
     },
     "output_type": "display_data"
    }
   ],
   "source": [
    "#Vamos pegar algumas colunas específicas e outros tipo de gráfico agora\n",
    "imdb_review[\"rating\"].plot(kind = 'hist')\n",
    "#Aqui vemos um histograma com as avaliações dos filmes e quantas vezes apareceram"
   ]
  },
  {
   "cell_type": "code",
   "execution_count": 169,
   "metadata": {},
   "outputs": [
    {
     "data": {
      "text/plain": [
       "<AxesSubplot:ylabel='Frequency'>"
      ]
     },
     "execution_count": 169,
     "metadata": {},
     "output_type": "execute_result"
    },
    {
     "data": {
      "image/png": "[encoded data removed]",
      "text/plain": [
       "<Figure size 432x288 with 1 Axes>"
      ]
     },
     "metadata": {
      "needs_background": "light"
     },
     "output_type": "display_data"
    }
   ],
   "source": [
    "imdb_review['runtime'].plot(kind='hist') \n",
    "#Aqui é possível ver que a maior parte dos filmes tem em média 2 horas de filme"
   ]
  },
  {
   "cell_type": "code",
   "execution_count": 170,
   "metadata": {},
   "outputs": [
    {
     "data": {
      "text/html": [
       "<div>\n",
       "<style scoped>\n",
       "    .dataframe tbody tr th:only-of-type {\n",
       "        vertical-align: middle;\n",
       "    }\n",
       "\n",
       "    .dataframe tbody tr th {\n",
       "        vertical-align: top;\n",
       "    }\n",
       "\n",
       "    .dataframe thead th {\n",
       "        text-align: right;\n",
       "    }\n",
       "</style>\n",
       "<table border=\"1\" class=\"dataframe\">\n",
       "  <thead>\n",
       "    <tr style=\"text-align: right;\">\n",
       "      <th></th>\n",
       "      <th>name</th>\n",
       "      <th>year</th>\n",
       "      <th>runtime</th>\n",
       "      <th>genre</th>\n",
       "      <th>rating</th>\n",
       "      <th>metascore</th>\n",
       "      <th>timeline</th>\n",
       "      <th>votes</th>\n",
       "      <th>gross</th>\n",
       "    </tr>\n",
       "  </thead>\n",
       "  <tbody>\n",
       "    <tr>\n",
       "      <th>1</th>\n",
       "      <td>The Godfather</td>\n",
       "      <td>1972</td>\n",
       "      <td>175</td>\n",
       "      <td>Crime, Drama</td>\n",
       "      <td>9.2</td>\n",
       "      <td>100.0</td>\n",
       "      <td>An organized crime dynasty's aging patriarch t...</td>\n",
       "      <td>NaN</td>\n",
       "      <td>134.970001</td>\n",
       "    </tr>\n",
       "  </tbody>\n",
       "</table>\n",
       "</div>"
      ],
      "text/plain": [
       "            name  year  runtime         genre  rating  metascore  \\\n",
       "1  The Godfather  1972      175  Crime, Drama     9.2      100.0   \n",
       "\n",
       "                                            timeline  votes       gross  \n",
       "1  An organized crime dynasty's aging patriarch t...    NaN  134.970001  "
      ]
     },
     "metadata": {},
     "output_type": "display_data"
    }
   ],
   "source": [
    "the_godfather=imdb_review.loc[imdb_review['name']== 'The Godfather']\n",
    "display(the_godfather)"
   ]
  },
  {
   "cell_type": "code",
   "execution_count": 171,
   "metadata": {},
   "outputs": [
    {
     "data": {
      "image/png": "[encoded data removed]",
      "text/plain": [
       "<Figure size 432x288 with 1 Axes>"
      ]
     },
     "metadata": {
      "needs_background": "light"
     },
     "output_type": "display_data"
    }
   ],
   "source": [
    "gráfico_godfather = the_godfather.plot.bar()"
   ]
  },
  {
   "cell_type": "code",
   "execution_count": 172,
   "metadata": {},
   "outputs": [
    {
     "data": {
      "text/html": [
       "<div>\n",
       "<style scoped>\n",
       "    .dataframe tbody tr th:only-of-type {\n",
       "        vertical-align: middle;\n",
       "    }\n",
       "\n",
       "    .dataframe tbody tr th {\n",
       "        vertical-align: top;\n",
       "    }\n",
       "\n",
       "    .dataframe thead th {\n",
       "        text-align: right;\n",
       "    }\n",
       "</style>\n",
       "<table border=\"1\" class=\"dataframe\">\n",
       "  <thead>\n",
       "    <tr style=\"text-align: right;\">\n",
       "      <th></th>\n",
       "      <th>name</th>\n",
       "      <th>year</th>\n",
       "      <th>runtime</th>\n",
       "      <th>genre</th>\n",
       "      <th>rating</th>\n",
       "      <th>metascore</th>\n",
       "      <th>timeline</th>\n",
       "      <th>votes</th>\n",
       "      <th>gross</th>\n",
       "    </tr>\n",
       "  </thead>\n",
       "  <tbody>\n",
       "    <tr>\n",
       "      <th>67</th>\n",
       "      <td>Dr. Strangelove or: How I Learned to Stop Worr...</td>\n",
       "      <td>1964</td>\n",
       "      <td>95</td>\n",
       "      <td>Comedy</td>\n",
       "      <td>8.4</td>\n",
       "      <td>97.0</td>\n",
       "      <td>An insane general triggers a path to nuclear h...</td>\n",
       "      <td>457.287</td>\n",
       "      <td>0.280000</td>\n",
       "    </tr>\n",
       "    <tr>\n",
       "      <th>195</th>\n",
       "      <td>Monty Python's Life of Brian</td>\n",
       "      <td>1979</td>\n",
       "      <td>94</td>\n",
       "      <td>Comedy</td>\n",
       "      <td>8.1</td>\n",
       "      <td>77.0</td>\n",
       "      <td>Born on the original Christmas in the stable n...</td>\n",
       "      <td>373.225</td>\n",
       "      <td>20.049999</td>\n",
       "    </tr>\n",
       "    <tr>\n",
       "      <th>293</th>\n",
       "      <td>Young Frankenstein</td>\n",
       "      <td>1974</td>\n",
       "      <td>106</td>\n",
       "      <td>Comedy</td>\n",
       "      <td>8.0</td>\n",
       "      <td>80.0</td>\n",
       "      <td>An American grandson of the infamous scientist...</td>\n",
       "      <td>145.431</td>\n",
       "      <td>86.300003</td>\n",
       "    </tr>\n",
       "    <tr>\n",
       "      <th>389</th>\n",
       "      <td>The Discreet Charm of the Bourgeoisie</td>\n",
       "      <td>1972</td>\n",
       "      <td>102</td>\n",
       "      <td>Comedy</td>\n",
       "      <td>7.9</td>\n",
       "      <td>93.0</td>\n",
       "      <td>A surreal, virtually plotless series of dreams...</td>\n",
       "      <td>39.624</td>\n",
       "      <td>0.200000</td>\n",
       "    </tr>\n",
       "    <tr>\n",
       "      <th>484</th>\n",
       "      <td>Ferris Bueller's Day Off</td>\n",
       "      <td>1986</td>\n",
       "      <td>103</td>\n",
       "      <td>Comedy</td>\n",
       "      <td>7.8</td>\n",
       "      <td>61.0</td>\n",
       "      <td>A high school wise guy is determined to have a...</td>\n",
       "      <td>326.537</td>\n",
       "      <td>70.139999</td>\n",
       "    </tr>\n",
       "    <tr>\n",
       "      <th>538</th>\n",
       "      <td>The Hangover</td>\n",
       "      <td>2009</td>\n",
       "      <td>100</td>\n",
       "      <td>Comedy</td>\n",
       "      <td>7.7</td>\n",
       "      <td>73.0</td>\n",
       "      <td>Three buddies wake up from a bachelor party in...</td>\n",
       "      <td>727.280</td>\n",
       "      <td>277.320007</td>\n",
       "    </tr>\n",
       "    <tr>\n",
       "      <th>586</th>\n",
       "      <td>Office Space</td>\n",
       "      <td>1999</td>\n",
       "      <td>89</td>\n",
       "      <td>Comedy</td>\n",
       "      <td>7.7</td>\n",
       "      <td>68.0</td>\n",
       "      <td>Three company workers who hate their jobs deci...</td>\n",
       "      <td>246.036</td>\n",
       "      <td>10.820000</td>\n",
       "    </tr>\n",
       "    <tr>\n",
       "      <th>595</th>\n",
       "      <td>Le Dîner de Cons</td>\n",
       "      <td>1998</td>\n",
       "      <td>80</td>\n",
       "      <td>Comedy</td>\n",
       "      <td>7.7</td>\n",
       "      <td>73.0</td>\n",
       "      <td>A few friends have a weekly fools' dinner, whe...</td>\n",
       "      <td>38.004</td>\n",
       "      <td>4.070000</td>\n",
       "    </tr>\n",
       "    <tr>\n",
       "      <th>602</th>\n",
       "      <td>Clerks</td>\n",
       "      <td>1994</td>\n",
       "      <td>92</td>\n",
       "      <td>Comedy</td>\n",
       "      <td>7.7</td>\n",
       "      <td>70.0</td>\n",
       "      <td>A day in the lives of two convenience clerks n...</td>\n",
       "      <td>213.316</td>\n",
       "      <td>3.150000</td>\n",
       "    </tr>\n",
       "    <tr>\n",
       "      <th>628</th>\n",
       "      <td>Airplane!</td>\n",
       "      <td>1980</td>\n",
       "      <td>88</td>\n",
       "      <td>Comedy</td>\n",
       "      <td>7.7</td>\n",
       "      <td>78.0</td>\n",
       "      <td>A man afraid to fly must ensure that a plane l...</td>\n",
       "      <td>218.862</td>\n",
       "      <td>83.400002</td>\n",
       "    </tr>\n",
       "    <tr>\n",
       "      <th>638</th>\n",
       "      <td>The Odd Couple</td>\n",
       "      <td>1968</td>\n",
       "      <td>105</td>\n",
       "      <td>Comedy</td>\n",
       "      <td>7.7</td>\n",
       "      <td>86.0</td>\n",
       "      <td>Two friends try sharing an apartment, but thei...</td>\n",
       "      <td>32.234</td>\n",
       "      <td>44.529999</td>\n",
       "    </tr>\n",
       "    <tr>\n",
       "      <th>721</th>\n",
       "      <td>Dazed and Confused</td>\n",
       "      <td>1993</td>\n",
       "      <td>102</td>\n",
       "      <td>Comedy</td>\n",
       "      <td>7.6</td>\n",
       "      <td>78.0</td>\n",
       "      <td>The adventures of high school and junior high ...</td>\n",
       "      <td>169.791</td>\n",
       "      <td>7.990000</td>\n",
       "    </tr>\n",
       "  </tbody>\n",
       "</table>\n",
       "</div>"
      ],
      "text/plain": [
       "                                                  name  year  runtime   genre  \\\n",
       "67   Dr. Strangelove or: How I Learned to Stop Worr...  1964       95  Comedy   \n",
       "195                       Monty Python's Life of Brian  1979       94  Comedy   \n",
       "293                                 Young Frankenstein  1974      106  Comedy   \n",
       "389              The Discreet Charm of the Bourgeoisie  1972      102  Comedy   \n",
       "484                           Ferris Bueller's Day Off  1986      103  Comedy   \n",
       "538                                       The Hangover  2009      100  Comedy   \n",
       "586                                       Office Space  1999       89  Comedy   \n",
       "595                                   Le Dîner de Cons  1998       80  Comedy   \n",
       "602                                             Clerks  1994       92  Comedy   \n",
       "628                                          Airplane!  1980       88  Comedy   \n",
       "638                                     The Odd Couple  1968      105  Comedy   \n",
       "721                                 Dazed and Confused  1993      102  Comedy   \n",
       "\n",
       "     rating  metascore                                           timeline  \\\n",
       "67      8.4       97.0  An insane general triggers a path to nuclear h...   \n",
       "195     8.1       77.0  Born on the original Christmas in the stable n...   \n",
       "293     8.0       80.0  An American grandson of the infamous scientist...   \n",
       "389     7.9       93.0  A surreal, virtually plotless series of dreams...   \n",
       "484     7.8       61.0  A high school wise guy is determined to have a...   \n",
       "538     7.7       73.0  Three buddies wake up from a bachelor party in...   \n",
       "586     7.7       68.0  Three company workers who hate their jobs deci...   \n",
       "595     7.7       73.0  A few friends have a weekly fools' dinner, whe...   \n",
       "602     7.7       70.0  A day in the lives of two convenience clerks n...   \n",
       "628     7.7       78.0  A man afraid to fly must ensure that a plane l...   \n",
       "638     7.7       86.0  Two friends try sharing an apartment, but thei...   \n",
       "721     7.6       78.0  The adventures of high school and junior high ...   \n",
       "\n",
       "       votes       gross  \n",
       "67   457.287    0.280000  \n",
       "195  373.225   20.049999  \n",
       "293  145.431   86.300003  \n",
       "389   39.624    0.200000  \n",
       "484  326.537   70.139999  \n",
       "538  727.280  277.320007  \n",
       "586  246.036   10.820000  \n",
       "595   38.004    4.070000  \n",
       "602  213.316    3.150000  \n",
       "628  218.862   83.400002  \n",
       "638   32.234   44.529999  \n",
       "721  169.791    7.990000  "
      ]
     },
     "metadata": {},
     "output_type": "display_data"
    }
   ],
   "source": [
    "comédia=imdb_review.loc[imdb_review['genre']== 'Comedy']\n",
    "display(comédia)"
   ]
  },
  {
   "cell_type": "code",
   "execution_count": 173,
   "metadata": {},
   "outputs": [
    {
     "data": {
      "text/plain": [
       "7.937349397590403"
      ]
     },
     "execution_count": 173,
     "metadata": {},
     "output_type": "execute_result"
    }
   ],
   "source": [
    "comédia = imdb_review['rating'].mean()\n",
    "comédia #Média de avaliação dos filmes de comédia"
   ]
  },
  {
   "cell_type": "code",
   "execution_count": 183,
   "metadata": {},
   "outputs": [
    {
     "data": {
      "text/plain": [
       "<AxesSubplot:>"
      ]
     },
     "execution_count": 183,
     "metadata": {},
     "output_type": "execute_result"
    },
    {
     "data": {
      "image/png": "[encoded data removed]",
      "text/plain": [
       "<Figure size 1008x432 with 1 Axes>"
      ]
     },
     "metadata": {
      "needs_background": "light"
     },
     "output_type": "display_data"
    }
   ],
   "source": [
    "imdb_review['year'].value_counts().head().plot(kind='bar', figsize=(14, 6))\n",
    "#Aqui conta quantitade de filmes por ano, sendo que com head() retornei os 5 anos com mais filmes"
   ]
  },
  {
   "cell_type": "code",
   "execution_count": 191,
   "metadata": {},
   "outputs": [
    {
     "data": {
      "text/plain": [
       "<AxesSubplot:>"
      ]
     },
     "execution_count": 191,
     "metadata": {},
     "output_type": "execute_result"
    },
    {
     "data": {
      "image/png": "[encoded data removed]",
      "text/plain": [
       "<Figure size 1008x432 with 1 Axes>"
      ]
     },
     "metadata": {
      "needs_background": "light"
     },
     "output_type": "display_data"
    }
   ],
   "source": [
    "imdb_review['genre'].value_counts().head(10).plot(kind='bar', figsize=(14, 6))"
   ]
  },
  {
   "cell_type": "markdown",
   "metadata": {},
   "source": [
    "![blue-divider](https://user-images.githubusercontent.com/7065401/52071924-c003ad80-2562-11e9-8297-1c6595f8a7ff.png)"
   ]
  },
  {
   "cell_type": "code",
   "execution_count": 209,
   "metadata": {},
   "outputs": [
    {
     "data": {
      "text/html": [
       "<div>\n",
       "<style scoped>\n",
       "    .dataframe tbody tr th:only-of-type {\n",
       "        vertical-align: middle;\n",
       "    }\n",
       "\n",
       "    .dataframe tbody tr th {\n",
       "        vertical-align: top;\n",
       "    }\n",
       "\n",
       "    .dataframe thead th {\n",
       "        text-align: right;\n",
       "    }\n",
       "</style>\n",
       "<table border=\"1\" class=\"dataframe\">\n",
       "  <thead>\n",
       "    <tr style=\"text-align: right;\">\n",
       "      <th></th>\n",
       "      <th>Títulos</th>\n",
       "      <th>Finais</th>\n",
       "    </tr>\n",
       "    <tr>\n",
       "      <th>Times</th>\n",
       "      <th></th>\n",
       "      <th></th>\n",
       "    </tr>\n",
       "  </thead>\n",
       "  <tbody>\n",
       "    <tr>\n",
       "      <th>Boston Celtics</th>\n",
       "      <td>17</td>\n",
       "      <td>21</td>\n",
       "    </tr>\n",
       "    <tr>\n",
       "      <th>Los Angeles Lakers</th>\n",
       "      <td>17</td>\n",
       "      <td>33</td>\n",
       "    </tr>\n",
       "    <tr>\n",
       "      <th>Golden State Warriors</th>\n",
       "      <td>6</td>\n",
       "      <td>11</td>\n",
       "    </tr>\n",
       "    <tr>\n",
       "      <th>Chicago Bulls</th>\n",
       "      <td>6</td>\n",
       "      <td>6</td>\n",
       "    </tr>\n",
       "    <tr>\n",
       "      <th>San Antonio Spurs</th>\n",
       "      <td>5</td>\n",
       "      <td>6</td>\n",
       "    </tr>\n",
       "    <tr>\n",
       "      <th>Philadelphia 76ers</th>\n",
       "      <td>3</td>\n",
       "      <td>9</td>\n",
       "    </tr>\n",
       "    <tr>\n",
       "      <th>Detroit Pistons</th>\n",
       "      <td>3</td>\n",
       "      <td>7</td>\n",
       "    </tr>\n",
       "    <tr>\n",
       "      <th>Miami Heat</th>\n",
       "      <td>3</td>\n",
       "      <td>6</td>\n",
       "    </tr>\n",
       "    <tr>\n",
       "      <th>New York Knicks</th>\n",
       "      <td>2</td>\n",
       "      <td>8</td>\n",
       "    </tr>\n",
       "    <tr>\n",
       "      <th>Houston Rockets</th>\n",
       "      <td>2</td>\n",
       "      <td>4</td>\n",
       "    </tr>\n",
       "  </tbody>\n",
       "</table>\n",
       "</div>"
      ],
      "text/plain": [
       "                       Títulos  Finais\n",
       "Times                                 \n",
       "Boston Celtics              17      21\n",
       "Los Angeles Lakers          17      33\n",
       "Golden State Warriors        6      11\n",
       "Chicago Bulls                6       6\n",
       "San Antonio Spurs            5       6\n",
       "Philadelphia 76ers           3       9\n",
       "Detroit Pistons              3       7\n",
       "Miami Heat                   3       6\n",
       "New York Knicks              2       8\n",
       "Houston Rockets              2       4"
      ]
     },
     "execution_count": 209,
     "metadata": {},
     "output_type": "execute_result"
    }
   ],
   "source": [
    "#Testando gráficos com outra tabela da aula passada\n",
    "df2 = pd.DataFrame({'Times': ['Boston Celtics', 'Los Angeles Lakers', 'Golden State Warriors', 'Chicago Bulls',\n",
    "                              'San Antonio Spurs', 'Philadelphia 76ers', 'Detroit Pistons', 'Miami Heat',\n",
    "                              'New York Knicks', 'Houston Rockets'],\n",
    "                    'Títulos': [17, 17, 6, 6, 5, 3, 3, 3, 2, 2],\n",
    "                   'Finais': [21, 33, 11, 6, 6, 9, 7, 6, 8, 4],\n",
    "                    \n",
    "                   })\n",
    "df2.set_index('Times', inplace=True)\n",
    "df2"
   ]
  },
  {
   "cell_type": "code",
   "execution_count": 210,
   "metadata": {},
   "outputs": [
    {
     "data": {
      "image/png": "[encoded data removed]",
      "text/plain": [
       "<Figure size 432x288 with 1 Axes>"
      ]
     },
     "metadata": {
      "needs_background": "light"
     },
     "output_type": "display_data"
    }
   ],
   "source": [
    "nba_gráfico = df2.plot.bar()"
   ]
  },
  {
   "cell_type": "code",
   "execution_count": 211,
   "metadata": {},
   "outputs": [
    {
     "data": {
      "image/png": "[encoded data removed]",
      "text/plain": [
       "<Figure size 792x360 with 1 Axes>"
      ]
     },
     "metadata": {},
     "output_type": "display_data"
    }
   ],
   "source": [
    "plot = df2.plot.pie(y='Títulos', figsize=(11,5), title='Campeões da NBA')"
   ]
  },
  {
   "cell_type": "code",
   "execution_count": 212,
   "metadata": {},
   "outputs": [
    {
     "data": {
      "image/png": "[encoded data removed]",
      "text/plain": [
       "<Figure size 432x288 with 1 Axes>"
      ]
     },
     "metadata": {
      "needs_background": "light"
     },
     "output_type": "display_data"
    }
   ],
   "source": [
    "plot2 = df2.plot.scatter(x='Títulos', y='Finais')"
   ]
  },
  {
   "cell_type": "markdown",
   "metadata": {},
   "source": [
    "#### Nessa aula vimos um pouco sobre selecionar certas colunas e items, depois plotar gráficos. \n",
    "### Até a próxima aula e bons estudos!\n",
    "## Ana Beatriz Macedo\n",
    "![blue-divider](https://user-images.githubusercontent.com/7065401/52071924-c003ad80-2562-11e9-8297-1c6595f8a7ff.png)"
   ]
  }
 ],
 "metadata": {
  "kernelspec": {
   "display_name": "Python 3",
   "language": "python",
   "name": "python3"
  },
  "language_info": {
   "codemirror_mode": {
    "name": "ipython",
    "version": 3
   },
   "file_extension": ".py",
   "mimetype": "text/x-python",
   "name": "python",
   "nbconvert_exporter": "python",
   "pygments_lexer": "ipython3",
   "version": "3.8.5"
  }
 },
 "nbformat": 4,
 "nbformat_minor": 4
}
