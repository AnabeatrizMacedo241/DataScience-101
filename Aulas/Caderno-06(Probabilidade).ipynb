{
 "cells": [
  {
   "cell_type": "markdown",
   "metadata": {},
   "source": [
    "# Introdução Data Science - Ana Beatriz Macedo<img src=\"https://octocat-generator-assets.githubusercontent.com/my-octocat-1626096942740.png\" width=\"324\" height=\"324\" align=\"right\">\n",
    "## Link para download: https://github.com/AnabeatrizMacedo241/DataScience-101\n",
    "## Github: https://github.com/AnabeatrizMacedo241\n",
    "## Linkedin: https://www.linkedin.com/in/ana-beatriz-oliveira-de-macedo-85b05b215/\n",
    "![yellow-divider](https://user-images.githubusercontent.com/7065401/52071924-c003ad80-2562-11e9-8297-1c6595f8a7ff.png)"
   ]
  },
  {
   "cell_type": "markdown",
   "metadata": {},
   "source": [
    "### Probabilidade em Python"
   ]
  },
  {
   "cell_type": "code",
   "execution_count": 59,
   "metadata": {},
   "outputs": [],
   "source": [
    "from scipy.stats import bernoulli\n",
    "import numpy as np\n",
    "import pandas as pd\n",
    "import matplotlib.pyplot as plt\n",
    "import seaborn as sns\n",
    "from scipy import stats"
   ]
  },
  {
   "cell_type": "code",
   "execution_count": 11,
   "metadata": {},
   "outputs": [
    {
     "data": {
      "text/plain": [
       "3"
      ]
     },
     "execution_count": 11,
     "metadata": {},
     "output_type": "execute_result"
    }
   ],
   "source": [
    "#Calculando a probabilidade de sair o lado 'Cara' jogando 5 moedas. Estabelecendo que pelo menos 50% das moedas serão \n",
    "#com o lado 'Cara'\n",
    "np.random.seed(30)\n",
    "jogando_5_moedas = bernoulli.rvs(p=0.5, size=5)\n",
    "soma_moedas = sum(jogando_5_moedas)\n",
    "soma_moedas"
   ]
  },
  {
   "cell_type": "code",
   "execution_count": 15,
   "metadata": {},
   "outputs": [
    {
     "data": {
      "text/plain": [
       "array([4, 3, 4, 2, 7, 3, 8, 2, 4, 3, 2, 4, 4, 5, 6, 2, 2, 8, 2, 3, 4, 5,\n",
       "       5, 1, 6, 3, 4, 3, 1, 4])"
      ]
     },
     "execution_count": 15,
     "metadata": {},
     "output_type": "execute_result"
    }
   ],
   "source": [
    "#Podemos usar binom.rvs() para simular 30 tentativas de 15 lançamentos de moeda com 25% de chance de obter cara em cada lançamento de.\n",
    "from scipy.stats import binom\n",
    "np.random.seed(30)\n",
    "tentativa = binom.rvs(n=15, p=0.25, size=30)\n",
    "tentativa"
   ]
  },
  {
   "cell_type": "markdown",
   "metadata": {},
   "source": [
    "`binom.pmf()` calcula a probabilidade de ter exatamente k caras em n lançamentos de moeda.\n",
    "\n",
    "`binom.cdf()` calcula a probabilidade de haver k cara ou menos em n lançamentos de moeda.\n",
    "\n",
    "`binom.sf()` calcula a probabilidade de haver mais de k caras em n lançamentos de moeda."
   ]
  },
  {
   "cell_type": "code",
   "execution_count": 22,
   "metadata": {},
   "outputs": [
    {
     "name": "stdout",
     "output_type": "stream",
     "text": [
      "0.06681730505079034\n"
     ]
    }
   ],
   "source": [
    "#Calculando a probabilidade de ter 1, EXATAMENTE, componente defeituoso. \n",
    "um_defeituoso = binom.pmf(k=1, n=15, p=0.25)\n",
    "print(um_defeituoso)"
   ]
  },
  {
   "cell_type": "code",
   "execution_count": 23,
   "metadata": {},
   "outputs": [
    {
     "name": "stdout",
     "output_type": "stream",
     "text": [
      "Probabilidade de 6.7% para exatamente um defeituoso.\n"
     ]
    }
   ],
   "source": [
    "print(\"Probabilidade de {:.1%} para exatamente um defeituoso.\".format(um_defeituoso))"
   ]
  },
  {
   "cell_type": "code",
   "execution_count": 25,
   "metadata": {},
   "outputs": [
    {
     "name": "stdout",
     "output_type": "stream",
     "text": [
      "Probabilidade de 1.3% sem defeituoso.\n"
     ]
    }
   ],
   "source": [
    "#Probabilidade de não ter nenhum defeituoso.\n",
    "sem_defeito = binom.pmf(k=0, n=15, p=0.25)\n",
    "sem_defeito\n",
    "print(\"Probabilidade de {:.1%} sem defeituoso.\".format(sem_defeito))"
   ]
  },
  {
   "cell_type": "code",
   "execution_count": 26,
   "metadata": {},
   "outputs": [
    {
     "name": "stdout",
     "output_type": "stream",
     "text": [
      "Probabilidade de 23.6% para 2 ou menos defeituosos.\n"
     ]
    }
   ],
   "source": [
    "#Probabilidade de tirar 2 ou MENOS com defeito\n",
    "dois_ou_menos = binom.cdf(k=2, n=15, p=0.25)\n",
    "print(\"Probabilidade de {:.1%} para 2 ou menos defeituosos.\".format(dois_ou_menos))"
   ]
  },
  {
   "cell_type": "code",
   "execution_count": 27,
   "metadata": {},
   "outputs": [
    {
     "data": {
      "text/plain": [
       "0.24609375000000025"
      ]
     },
     "execution_count": 27,
     "metadata": {},
     "output_type": "execute_result"
    }
   ],
   "source": [
    "#Agora, vamos pensar em respostas de SIM ou NÃO. \n",
    "#A probabilidade de receber 5 'Sim'em 10 com 50% de chance seria...\n",
    "prob_sim = binom.pmf(k=5, n=10, p=0.5)\n",
    "prob_sim"
   ]
  },
  {
   "cell_type": "code",
   "execution_count": 34,
   "metadata": {},
   "outputs": [
    {
     "data": {
      "text/plain": [
       "37.695312500000014"
      ]
     },
     "execution_count": 34,
     "metadata": {},
     "output_type": "execute_result"
    }
   ],
   "source": [
    "#A probabilidade de ter MAIS do que 5 'Sim''\n",
    "prob_sim_mais = binom.sf(k=5, n=10, p=0.5)\n",
    "prob_sim_mais*100"
   ]
  },
  {
   "cell_type": "code",
   "execution_count": 47,
   "metadata": {},
   "outputs": [
    {
     "name": "stdout",
     "output_type": "stream",
     "text": [
      "Probabilidade de 9.4% para 6 Não ou 4 sim.\n"
     ]
    }
   ],
   "source": [
    "#Qual a probabilidade de ter extamente 6 'Não' ou 4 'Sim' com 20% de chance?\n",
    "exato_seis_quatro = binom.pmf(k=6, n=10, p=0.2) + binom.pmf(k=4, n=10, p=0.2)\n",
    "print(\"Probabilidade de {:.1%} para 6 Não ou 4 sim.\".format(exato_seis_quatro))"
   ]
  },
  {
   "cell_type": "code",
   "execution_count": 32,
   "metadata": {},
   "outputs": [
    {
     "name": "stdout",
     "output_type": "stream",
     "text": [
      "Probabilidade de 98.7%\n"
     ]
    }
   ],
   "source": [
    "#Probabilidade de receber um ou menos Sim ou mais do que 6 com 90% de chance?\n",
    "menos_mais = binom.pmf(k=1, n=10, p=0.9) + binom.sf(k=6, n=10, p=0.9)\n",
    "print(\"Probabilidade de {:.1%}\".format(menos_mais))"
   ]
  },
  {
   "cell_type": "markdown",
   "metadata": {},
   "source": [
    "#### Distribuições Binomiais"
   ]
  },
  {
   "cell_type": "code",
   "execution_count": 2,
   "metadata": {},
   "outputs": [],
   "source": [
    "from scipy.stats import binom"
   ]
  },
  {
   "cell_type": "code",
   "execution_count": 3,
   "metadata": {},
   "outputs": [
    {
     "data": {
      "text/plain": [
       "0.421875"
      ]
     },
     "execution_count": 3,
     "metadata": {},
     "output_type": "execute_result"
    }
   ],
   "source": [
    "#Vamos supor que temos 75% de chance de sucesso em uma cirugia. A cirugia é realizada em 3 pacientes.\n",
    "#Qual a probabilidade da cirugia ser bem-sucedida em 2 pacientes?\n",
    "binom.pmf(2,3,0.75)"
   ]
  },
  {
   "cell_type": "code",
   "execution_count": 5,
   "metadata": {},
   "outputs": [
    {
     "data": {
      "text/plain": [
       "0.84375"
      ]
     },
     "execution_count": 5,
     "metadata": {},
     "output_type": "execute_result"
    }
   ],
   "source": [
    "#Em pelo menos 2 pacientes?\n",
    "1-binom.cdf(1,3,0.75)"
   ]
  },
  {
   "cell_type": "code",
   "execution_count": 10,
   "metadata": {},
   "outputs": [
    {
     "data": {
      "text/plain": [
       "0.578125"
      ]
     },
     "execution_count": 10,
     "metadata": {},
     "output_type": "execute_result"
    }
   ],
   "source": [
    "#No máximo 2 pacientes?\n",
    "binom.cdf(2,3,0.75)"
   ]
  },
  {
   "cell_type": "markdown",
   "metadata": {},
   "source": [
    "#### Distribuição de Poisson"
   ]
  },
  {
   "cell_type": "code",
   "execution_count": 1,
   "metadata": {},
   "outputs": [],
   "source": [
    "from scipy.stats import poisson"
   ]
  },
  {
   "cell_type": "code",
   "execution_count": 11,
   "metadata": {},
   "outputs": [
    {
     "data": {
      "text/plain": [
       "0.16803135574154085"
      ]
     },
     "execution_count": 11,
     "metadata": {},
     "output_type": "execute_result"
    }
   ],
   "source": [
    "#O número de média semanal de vendas de uma pequena empresa é 3. Qual a probabilidade de que eu uma semana\n",
    "#4 vendas ocorram?\n",
    "poisson.pmf(4,3)"
   ]
  },
  {
   "cell_type": "code",
   "execution_count": 12,
   "metadata": {},
   "outputs": [
    {
     "data": {
      "text/plain": [
       "0.35276811121776874"
      ]
     },
     "execution_count": 12,
     "metadata": {},
     "output_type": "execute_result"
    }
   ],
   "source": [
    "#Que pelo menos 4 vendas ocorram?\n",
    "1-poisson.cdf(3,3)"
   ]
  },
  {
   "cell_type": "code",
   "execution_count": 13,
   "metadata": {},
   "outputs": [
    {
     "data": {
      "text/plain": [
       "0.42319008112684364"
      ]
     },
     "execution_count": 13,
     "metadata": {},
     "output_type": "execute_result"
    }
   ],
   "source": [
    "#Que no máximo ocorram duas vendas?\n",
    "poisson.cdf(2,3)"
   ]
  },
  {
   "cell_type": "markdown",
   "metadata": {},
   "source": [
    "Essa foi uma simples introdução da bilioteca `scipy` aplicada a Probabilidade em Python. Há muito mais a se aprender."
   ]
  },
  {
   "cell_type": "markdown",
   "metadata": {},
   "source": [
    "### Até a próxima aula e bons estudos!\n",
    "## Ana Beatriz Macedo\n",
    "![blue-divider](https://user-images.githubusercontent.com/7065401/52071924-c003ad80-2562-11e9-8297-1c6595f8a7ff.png)"
   ]
  }
 ],
 "metadata": {
  "kernelspec": {
   "display_name": "Python 3",
   "language": "python",
   "name": "python3"
  },
  "language_info": {
   "codemirror_mode": {
    "name": "ipython",
    "version": 3
   },
   "file_extension": ".py",
   "mimetype": "text/x-python",
   "name": "python",
   "nbconvert_exporter": "python",
   "pygments_lexer": "ipython3",
   "version": "3.8.5"
  }
 },
 "nbformat": 4,
 "nbformat_minor": 4
}
