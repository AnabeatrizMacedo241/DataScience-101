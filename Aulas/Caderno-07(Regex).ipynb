{
 "cells": [
  {
   "cell_type": "markdown",
   "metadata": {},
   "source": [
    "# Introdução Data Science - Ana Beatriz Macedo<img src=\"https://octocat-generator-assets.githubusercontent.com/my-octocat-1626096942740.png\" width=\"324\" height=\"324\" align=\"right\">\n",
    "## Link para download: https://github.com/AnabeatrizMacedo241/DataScience-101\n",
    "## Github: https://github.com/AnabeatrizMacedo241\n",
    "## Linkedin: https://www.linkedin.com/in/ana-beatriz-oliveira-de-macedo-85b05b215/\n",
    "![yellow-divider](https://user-images.githubusercontent.com/7065401/52071924-c003ad80-2562-11e9-8297-1c6595f8a7ff.png)"
   ]
  },
  {
   "cell_type": "markdown",
   "metadata": {},
   "source": [
    "### Nessa sétima parte veremos Regex(As expressões regulares)\n",
    "Com essa ferramenta, será possível acessar palavras-chaves ou padrões entre caracteres de um texto. Cheque a documentação para obter mais detalhes: https://docs.python.org/3/library/re.html"
   ]
  },
  {
   "cell_type": "code",
   "execution_count": 3,
   "metadata": {},
   "outputs": [],
   "source": [
    "#Importanto a biblioteca\n",
    "import re\n",
    "#Abaixo vão alguns métodos de uso..."
   ]
  },
  {
   "cell_type": "markdown",
   "metadata": {},
   "source": [
    "<img src=\"https://denhamcoder.files.wordpress.com/2019/11/110719_1134_netregexche1.png?w=748\" width=\"650\" height=\"550\" align=\"center\">"
   ]
  },
  {
   "cell_type": "code",
   "execution_count": 2,
   "metadata": {},
   "outputs": [],
   "source": [
    "frase = 'Usando Regex com Python em Data Science'"
   ]
  },
  {
   "cell_type": "code",
   "execution_count": 6,
   "metadata": {},
   "outputs": [
    {
     "data": {
      "text/plain": [
       "['Usando']"
      ]
     },
     "execution_count": 6,
     "metadata": {},
     "output_type": "execute_result"
    }
   ],
   "source": [
    "#Usamos re por conta de biblioteca e depois usamos o método findall() para procurar elementos\n",
    "re.findall(\"\\AUsando\", frase)"
   ]
  },
  {
   "cell_type": "code",
   "execution_count": 7,
   "metadata": {},
   "outputs": [
    {
     "data": {
      "text/plain": [
       "[]"
      ]
     },
     "execution_count": 7,
     "metadata": {},
     "output_type": "execute_result"
    }
   ],
   "source": [
    "re.findall(\"\\d\",frase) #Não há nenhum dígito em frase"
   ]
  },
  {
   "cell_type": "code",
   "execution_count": 9,
   "metadata": {},
   "outputs": [],
   "source": [
    "frase2 = \"Aula 7 com Regex\""
   ]
  },
  {
   "cell_type": "code",
   "execution_count": 10,
   "metadata": {},
   "outputs": [
    {
     "data": {
      "text/plain": [
       "['7']"
      ]
     },
     "execution_count": 10,
     "metadata": {},
     "output_type": "execute_result"
    }
   ],
   "source": [
    "re.findall(\"\\d\", frase2) #Agora retorna número"
   ]
  },
  {
   "cell_type": "code",
   "execution_count": 11,
   "metadata": {},
   "outputs": [
    {
     "data": {
      "text/plain": [
       "['A', 'u', 'l', 'a', ' ', ' ', 'c', 'o', 'm', ' ', 'R', 'e', 'g', 'e', 'x']"
      ]
     },
     "execution_count": 11,
     "metadata": {},
     "output_type": "execute_result"
    }
   ],
   "source": [
    "re.findall(\"\\D\", frase2) #Retorna apenas as letras e espaços da frase2"
   ]
  },
  {
   "cell_type": "code",
   "execution_count": 12,
   "metadata": {},
   "outputs": [
    {
     "data": {
      "text/plain": [
       "['A', 'u', 'l', 'a', '7', 'c', 'o', 'm', 'R', 'e', 'g', 'e', 'x']"
      ]
     },
     "execution_count": 12,
     "metadata": {},
     "output_type": "execute_result"
    }
   ],
   "source": [
    "re.findall(\"\\S\", frase2) #Dessa forma, retorna sem espaços"
   ]
  },
  {
   "cell_type": "code",
   "execution_count": 13,
   "metadata": {},
   "outputs": [
    {
     "data": {
      "text/plain": [
       "[' ', ' ', ' ']"
      ]
     },
     "execution_count": 13,
     "metadata": {},
     "output_type": "execute_result"
    }
   ],
   "source": [
    "re.findall(\"\\s\", frase2) #retorna somente os espaços"
   ]
  },
  {
   "cell_type": "code",
   "execution_count": 17,
   "metadata": {},
   "outputs": [
    {
     "data": {
      "text/plain": [
       "['U',\n",
       " 's',\n",
       " 'a',\n",
       " 'n',\n",
       " 'd',\n",
       " 'o',\n",
       " 'R',\n",
       " 'e',\n",
       " 'g',\n",
       " 'e',\n",
       " 'x',\n",
       " 'c',\n",
       " 'o',\n",
       " 'm',\n",
       " 'P',\n",
       " 'y',\n",
       " 't',\n",
       " 'h',\n",
       " 'o',\n",
       " 'n',\n",
       " 'e',\n",
       " 'm',\n",
       " 'D',\n",
       " 'a',\n",
       " 't',\n",
       " 'a',\n",
       " 'S',\n",
       " 'c',\n",
       " 'i',\n",
       " 'e',\n",
       " 'n',\n",
       " 'c',\n",
       " 'e']"
      ]
     },
     "execution_count": 17,
     "metadata": {},
     "output_type": "execute_result"
    }
   ],
   "source": [
    "re.findall('[a-zA-Z]', frase) #Retorna todas as letras maiúsculas e minúsculas"
   ]
  },
  {
   "cell_type": "code",
   "execution_count": 15,
   "metadata": {},
   "outputs": [
    {
     "data": {
      "text/plain": [
       "['a', 'o', 'e', 'e', 'o', 'o', 'e', 'a', 'a', 'i', 'e', 'e']"
      ]
     },
     "execution_count": 15,
     "metadata": {},
     "output_type": "execute_result"
    }
   ],
   "source": [
    "re.findall('[aeiou]', frase) #Retornando apenas as vogais, mas veja que ele não trouxe o \"U\""
   ]
  },
  {
   "cell_type": "code",
   "execution_count": 16,
   "metadata": {},
   "outputs": [
    {
     "data": {
      "text/plain": [
       "['U', 'a', 'o', 'e', 'e', 'o', 'o', 'e', 'a', 'a', 'i', 'e', 'e']"
      ]
     },
     "execution_count": 16,
     "metadata": {},
     "output_type": "execute_result"
    }
   ],
   "source": [
    "re.findall('[AEIOUaeiou]', frase) #Agora veio com o \"U\" maiúsculo"
   ]
  },
  {
   "cell_type": "code",
   "execution_count": 19,
   "metadata": {},
   "outputs": [
    {
     "data": {
      "text/plain": [
       "['0', '1', '2', '3', '4', '5', '6', '7', '8', '9', '1', '1']"
      ]
     },
     "execution_count": 19,
     "metadata": {},
     "output_type": "execute_result"
    }
   ],
   "source": [
    "frase3 = '[0,1,2,3,4,5,6,7,8,9,11]' #Veja que os últimos números são retornados separados\n",
    "re.findall('[0-9]', frase3)"
   ]
  },
  {
   "cell_type": "code",
   "execution_count": 24,
   "metadata": {},
   "outputs": [
    {
     "data": {
      "text/plain": [
       "['11']"
      ]
     },
     "execution_count": 24,
     "metadata": {},
     "output_type": "execute_result"
    }
   ],
   "source": [
    "re.findall('[0-9][0-9]',frase3) #Dessa forma, conseguimos apenas decimais"
   ]
  },
  {
   "cell_type": "code",
   "execution_count": 31,
   "metadata": {},
   "outputs": [
    {
     "name": "stdout",
     "output_type": "stream",
     "text": [
      "None\n"
     ]
    }
   ],
   "source": [
    "#O método search() é muito similar ao findall()\n",
    "frase4 = 'Aprendendo a usar Regex'\n",
    "procurando_Py = re.search(\"Python\", frase4)\n",
    "print(procurando_Py)\n",
    "#Ele retorna None, pois não acha a palavra 'Python' na frase4"
   ]
  },
  {
   "cell_type": "code",
   "execution_count": 32,
   "metadata": {},
   "outputs": [
    {
     "name": "stdout",
     "output_type": "stream",
     "text": [
      "<re.Match object; span=(18, 23), match='Regex'>\n"
     ]
    }
   ],
   "source": [
    "procurando_Regex = re.search('Regex', frase4)\n",
    "print(procurando_Regex)\n",
    "#Entre os caracteres 18-23 está a palavra 'Regex'"
   ]
  },
  {
   "cell_type": "code",
   "execution_count": 34,
   "metadata": {},
   "outputs": [
    {
     "name": "stdout",
     "output_type": "stream",
     "text": [
      "Aprendendo Regex\n"
     ]
    }
   ],
   "source": [
    "#re.sub() substitui um elemento da string por outro\n",
    "substituir = re.sub('a usar ', '', frase4)\n",
    "print(substituir)"
   ]
  },
  {
   "cell_type": "code",
   "execution_count": 35,
   "metadata": {},
   "outputs": [
    {
     "name": "stdout",
     "output_type": "stream",
     "text": [
      "Regex\n"
     ]
    }
   ],
   "source": [
    "apenas_regex = re.search(r\"\\bR\\w+\", frase4) #Procura por palavras que começam em 'R'e como 0 '\\w+' retornam o resto\n",
    "print(apenas_regex.group())"
   ]
  },
  {
   "cell_type": "code",
   "execution_count": 50,
   "metadata": {},
   "outputs": [],
   "source": [
    "#Agora vamos alterar um texto\n",
    "texto = '@espn: Estreias, habitualmente, são jogos   complicados. A primeira partida de  Russell Westbrook(@russwest44) no Los Angeles Lakers seguiu tal tradição. O armador da National Basketball Association ,   vindo do Washington Wizards,teve uma atuação de pouquíssimo brilho na derrota da nova equipe dele para o Golden State Warriors.Após o 121×114 no Staples Center, um relevantíssimo trio tratou de tranquilizar o atleta.  LeBron James(@kingjames), das grandes estrelas do Lakers e da liga,deu uma dica para o atleta. “Eu disse a Russell Westbrook para ir para casa e assistir a uma comédia. Pedi para ele colocar um sorriso em seu rosto porque ele é muito duro consigo mesmo. Eu só disse para ele não ser duro com ele mesmo, pois isso é só um jogo. É um desafio entrar em um novo sistema e tentar se encaixar, mas também tem que  trazer o que você tem de melhor para se encaixar mais fácil”, comentou .'"
   ]
  },
  {
   "cell_type": "code",
   "execution_count": 51,
   "metadata": {},
   "outputs": [
    {
     "data": {
      "text/plain": [
       "'@espn: Estreias, habitualmente, são jogos   complicados. A primeira partida de  Russell Westbrook(@russwest44) no Los Angeles Lakers seguiu tal tradição. O armador da National Basketball Association ,   vindo do Washington Wizards,teve uma atuação de pouquíssimo brilho na derrota da nova equipe dele para o Golden State Warriors.Após o 121×114 no Staples Center, um relevantíssimo trio tratou de tranquilizar o atleta.  LeBron James(@kingjames), das grandes estrelas do Lakers e da liga,deu uma dica para o atleta. “Eu disse a Russell Westbrook para ir para casa e assistir a uma comédia. Pedi para ele colocar um sorriso em seu rosto porque ele é muito duro consigo mesmo. Eu só disse para ele não ser duro com ele mesmo, pois isso é só um jogo. É um desafio entrar em um novo sistema e tentar se encaixar, mas também tem que  trazer o que você tem de melhor para se encaixar mais fácil”, comentou .'"
      ]
     },
     "execution_count": 51,
     "metadata": {},
     "output_type": "execute_result"
    }
   ],
   "source": [
    "texto"
   ]
  },
  {
   "cell_type": "code",
   "execution_count": 71,
   "metadata": {},
   "outputs": [
    {
     "data": {
      "text/plain": [
       "['121', '114']"
      ]
     },
     "execution_count": 71,
     "metadata": {},
     "output_type": "execute_result"
    }
   ],
   "source": [
    "#Pegando, apenas, os números da partida\n",
    "re.findall('\\d{3}', texto)"
   ]
  },
  {
   "cell_type": "code",
   "execution_count": 61,
   "metadata": {},
   "outputs": [
    {
     "data": {
      "text/plain": [
       "': Estreias, habitualmente, são jogos   complicados. A primeira partida de  Russell Westbrook() no Los Angeles Lakers seguiu tal tradição. O armador da NBA ,   vindo do Washington Wizards,teve uma atuação de pouquíssimo brilho na derrota da nova equipe dele para o Golden State Warriors.Após o 121×114 no Staples Center, um relevantíssimo trio tratou de tranquilizar o atleta.  LeBron James(), das grandes estrelas do Lakers e da liga,deu uma dica para o atleta. “Eu disse a Russell Westbrook para ir para casa e assistir a uma comédia. Pedi para ele colocar um sorriso em seu rosto porque ele é muito duro consigo mesmo. Eu só disse para ele não ser duro com ele mesmo, pois isso é só um jogo. É um desafio entrar em um novo sistema e tentar se encaixar, mas também tem que  trazer o que você tem de melhor para se encaixar mais fácil”, comentou .'"
      ]
     },
     "execution_count": 61,
     "metadata": {},
     "output_type": "execute_result"
    }
   ],
   "source": [
    "#Substituindo 'National Basketball Association' por NBA\n",
    "texto2 = re.sub('National Basketball Association', 'NBA', texto)\n",
    "#Eliminando as mentions do twitter\n",
    "texto3 = re.sub('@[A-Za-z0-9]+', '', texto2)\n",
    "texto3"
   ]
  },
  {
   "cell_type": "code",
   "execution_count": 62,
   "metadata": {},
   "outputs": [
    {
     "data": {
      "text/plain": [
       "': Estreias, habitualmente, são jogos complicados. A primeira partida de Russell Westbrook() no Los Angeles Lakers seguiu tal tradição. O armador da NBA , vindo do Washington Wizards,teve uma atuação de pouquíssimo brilho na derrota da nova equipe dele para o Golden State Warriors.Após o 121×114 no Staples Center, um relevantíssimo trio tratou de tranquilizar o atleta. LeBron James(), das grandes estrelas do Lakers e da liga,deu uma dica para o atleta. “Eu disse a Russell Westbrook para ir para casa e assistir a uma comédia. Pedi para ele colocar um sorriso em seu rosto porque ele é muito duro consigo mesmo. Eu só disse para ele não ser duro com ele mesmo, pois isso é só um jogo. É um desafio entrar em um novo sistema e tentar se encaixar, mas também tem que trazer o que você tem de melhor para se encaixar mais fácil”, comentou .'"
      ]
     },
     "execution_count": 62,
     "metadata": {},
     "output_type": "execute_result"
    }
   ],
   "source": [
    "#Substituindo espaços maiores que 1 \n",
    "texto4 = re.sub(' +', ' ', texto3)\n",
    "texto4"
   ]
  },
  {
   "cell_type": "code",
   "execution_count": 65,
   "metadata": {},
   "outputs": [
    {
     "data": {
      "text/plain": [
       "' Estreias, habitualmente, são jogos complicados. A primeira partida de Russell Westbrook() no Los Angeles Lakers seguiu tal tradição. O armador da NBA , vindo do Washington Wizards,teve uma atuação de pouquíssimo brilho na derrota da nova equipe dele para o Golden State Warriors.Após o 121×114 no Staples Center, um relevantíssimo trio tratou de tranquilizar o atleta. LeBron James(), das grandes estrelas do Lakers e da liga,deu uma dica para o atleta. “Eu disse a Russell Westbrook para ir para casa e assistir a uma comédia. Pedi para ele colocar um sorriso em seu rosto porque ele é muito duro consigo mesmo. Eu só disse para ele não ser duro com ele mesmo, pois isso é só um jogo. É um desafio entrar em um novo sistema e tentar se encaixar, mas também tem que trazer o que você tem de melhor para se encaixar mais fácil”, comentou .'"
      ]
     },
     "execution_count": 65,
     "metadata": {},
     "output_type": "execute_result"
    }
   ],
   "source": [
    "#Eleminando os ':' do começo\n",
    "texto5 = re.sub(':', '',texto4)\n",
    "texto5"
   ]
  },
  {
   "cell_type": "code",
   "execution_count": 69,
   "metadata": {},
   "outputs": [
    {
     "data": {
      "text/plain": [
       "' Estreias, habitualmente, são jogos complicados. A primeira partida de Russell Westbrook no Los Angeles Lakers seguiu tal tradição. O armador da NBA , vindo do Washington Wizards,teve uma atuação de pouquíssimo brilho na derrota da nova equipe dele para o Golden State Warriors.Após o 121×114 no Staples Center, um relevantíssimo trio tratou de tranquilizar o atleta. LeBron James, das grandes estrelas do Lakers e da liga,deu uma dica para o atleta. “Eu disse a Russell Westbrook para ir para casa e assistir a uma comédia. Pedi para ele colocar um sorriso em seu rosto porque ele é muito duro consigo mesmo. Eu só disse para ele não ser duro com ele mesmo, pois isso é só um jogo. É um desafio entrar em um novo sistema e tentar se encaixar, mas também tem que trazer o que você tem de melhor para se encaixar mais fácil”, comentou .'"
      ]
     },
     "execution_count": 69,
     "metadata": {},
     "output_type": "execute_result"
    }
   ],
   "source": [
    "#Retirando os parênteses após os nomes dos jogadores\n",
    "texto6 = re.sub('[()+]', '', texto5)\n",
    "texto6"
   ]
  },
  {
   "cell_type": "markdown",
   "metadata": {},
   "source": [
    "### Até a próxima aula e bons estudos!\n",
    "## Ana Beatriz Macedo\n",
    "![yellow-divider](https://user-images.githubusercontent.com/7065401/52071924-c003ad80-2562-11e9-8297-1c6595f8a7ff.png)"
   ]
  }
 ],
 "metadata": {
  "kernelspec": {
   "display_name": "Python 3",
   "language": "python",
   "name": "python3"
  },
  "language_info": {
   "codemirror_mode": {
    "name": "ipython",
    "version": 3
   },
   "file_extension": ".py",
   "mimetype": "text/x-python",
   "name": "python",
   "nbconvert_exporter": "python",
   "pygments_lexer": "ipython3",
   "version": "3.8.5"
  }
 },
 "nbformat": 4,
 "nbformat_minor": 4
}
