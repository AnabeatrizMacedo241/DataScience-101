{
 "cells": [
  {
   "cell_type": "markdown",
   "metadata": {},
   "source": [
    "# Introdução Data Science - Ana Beatriz Macedo<img src=\"https://octocat-generator-assets.githubusercontent.com/my-octocat-1626096942740.png\" width=\"324\" height=\"324\" align=\"right\">\n",
    "## Link para download: https://github.com/AnabeatrizMacedo241/DataScience-101\n",
    "## Github: https://github.com/AnabeatrizMacedo241\n",
    "## Linkedin: https://www.linkedin.com/in/ana-beatriz-oliveira-de-macedo-85b05b215/\n",
    "![yellow-divider](https://user-images.githubusercontent.com/7065401/52071924-c003ad80-2562-11e9-8297-1c6595f8a7ff.png)"
   ]
  },
  {
   "cell_type": "markdown",
   "metadata": {},
   "source": [
    "### Nessa oitava parte veremos como utilizar o `SQL` em um caderno Jupyter "
   ]
  },
  {
   "cell_type": "code",
   "execution_count": 6,
   "metadata": {},
   "outputs": [],
   "source": [
    "import pandas as pd\n",
    "import sqlite3"
   ]
  },
  {
   "cell_type": "code",
   "execution_count": 5,
   "metadata": {},
   "outputs": [],
   "source": [
    "pip install ipython-sql"
   ]
  },
  {
   "cell_type": "code",
   "execution_count": 7,
   "metadata": {},
   "outputs": [
    {
     "data": {
      "text/html": [
       "<div>\n",
       "<style scoped>\n",
       "    .dataframe tbody tr th:only-of-type {\n",
       "        vertical-align: middle;\n",
       "    }\n",
       "\n",
       "    .dataframe tbody tr th {\n",
       "        vertical-align: top;\n",
       "    }\n",
       "\n",
       "    .dataframe thead th {\n",
       "        text-align: right;\n",
       "    }\n",
       "</style>\n",
       "<table border=\"1\" class=\"dataframe\">\n",
       "  <thead>\n",
       "    <tr style=\"text-align: right;\">\n",
       "      <th></th>\n",
       "      <th>Times</th>\n",
       "      <th>Títulos</th>\n",
       "      <th>Finais</th>\n",
       "    </tr>\n",
       "  </thead>\n",
       "  <tbody>\n",
       "    <tr>\n",
       "      <th>0</th>\n",
       "      <td>Boston Celtics</td>\n",
       "      <td>17</td>\n",
       "      <td>21</td>\n",
       "    </tr>\n",
       "    <tr>\n",
       "      <th>1</th>\n",
       "      <td>Los Angeles Lakers</td>\n",
       "      <td>17</td>\n",
       "      <td>33</td>\n",
       "    </tr>\n",
       "    <tr>\n",
       "      <th>2</th>\n",
       "      <td>Golden State Warriors</td>\n",
       "      <td>6</td>\n",
       "      <td>11</td>\n",
       "    </tr>\n",
       "    <tr>\n",
       "      <th>3</th>\n",
       "      <td>Chicago Bulls</td>\n",
       "      <td>6</td>\n",
       "      <td>6</td>\n",
       "    </tr>\n",
       "    <tr>\n",
       "      <th>4</th>\n",
       "      <td>San Antonio Spurs</td>\n",
       "      <td>5</td>\n",
       "      <td>6</td>\n",
       "    </tr>\n",
       "    <tr>\n",
       "      <th>5</th>\n",
       "      <td>Philadelphia 76ers</td>\n",
       "      <td>3</td>\n",
       "      <td>9</td>\n",
       "    </tr>\n",
       "    <tr>\n",
       "      <th>6</th>\n",
       "      <td>Detroit Pistons</td>\n",
       "      <td>3</td>\n",
       "      <td>7</td>\n",
       "    </tr>\n",
       "    <tr>\n",
       "      <th>7</th>\n",
       "      <td>Miami Heat</td>\n",
       "      <td>3</td>\n",
       "      <td>6</td>\n",
       "    </tr>\n",
       "    <tr>\n",
       "      <th>8</th>\n",
       "      <td>New York Knicks</td>\n",
       "      <td>2</td>\n",
       "      <td>8</td>\n",
       "    </tr>\n",
       "    <tr>\n",
       "      <th>9</th>\n",
       "      <td>Houston Rockets</td>\n",
       "      <td>2</td>\n",
       "      <td>4</td>\n",
       "    </tr>\n",
       "  </tbody>\n",
       "</table>\n",
       "</div>"
      ],
      "text/plain": [
       "                   Times  Títulos  Finais\n",
       "0         Boston Celtics       17      21\n",
       "1     Los Angeles Lakers       17      33\n",
       "2  Golden State Warriors        6      11\n",
       "3          Chicago Bulls        6       6\n",
       "4      San Antonio Spurs        5       6\n",
       "5     Philadelphia 76ers        3       9\n",
       "6        Detroit Pistons        3       7\n",
       "7             Miami Heat        3       6\n",
       "8        New York Knicks        2       8\n",
       "9        Houston Rockets        2       4"
      ]
     },
     "execution_count": 7,
     "metadata": {},
     "output_type": "execute_result"
    }
   ],
   "source": [
    "df = pd.DataFrame({'Times': ['Boston Celtics', 'Los Angeles Lakers', 'Golden State Warriors', 'Chicago Bulls',\n",
    "                              'San Antonio Spurs', 'Philadelphia 76ers', 'Detroit Pistons', 'Miami Heat',\n",
    "                              'New York Knicks', 'Houston Rockets'],\n",
    "                    'Títulos': [17, 17, 6, 6, 5, 3, 3, 3, 2, 2],\n",
    "                   'Finais': [21, 33, 11, 6, 6, 9, 7, 6, 8, 4],\n",
    "                   })\n",
    "df"
   ]
  },
  {
   "cell_type": "code",
   "execution_count": 9,
   "metadata": {},
   "outputs": [],
   "source": [
    "connection = sqlite3.connect('data_science101.db')"
   ]
  },
  {
   "cell_type": "code",
   "execution_count": 10,
   "metadata": {},
   "outputs": [],
   "source": [
    "df.to_sql('nbaTeams', connection) #Parâmetros: (nome_tabela, variável da conexão)\n",
    "%load_ext sql\n",
    "\n",
    "%sql sqlite:///data_science101.db"
   ]
  },
  {
   "cell_type": "markdown",
   "metadata": {},
   "source": [
    "`SELECT` é um comando para retornar informações de um banco de dados e `*` significa que irá retornar tudo."
   ]
  },
  {
   "cell_type": "code",
   "execution_count": 12,
   "metadata": {},
   "outputs": [
    {
     "name": "stdout",
     "output_type": "stream",
     "text": [
      " * sqlite:///data_science101.db\n",
      "Done.\n"
     ]
    },
    {
     "data": {
      "text/html": [
       "<table>\n",
       "    <tr>\n",
       "        <th>index</th>\n",
       "        <th>Times</th>\n",
       "        <th>Títulos</th>\n",
       "        <th>Finais</th>\n",
       "    </tr>\n",
       "    <tr>\n",
       "        <td>0</td>\n",
       "        <td>Boston Celtics</td>\n",
       "        <td>17</td>\n",
       "        <td>21</td>\n",
       "    </tr>\n",
       "    <tr>\n",
       "        <td>1</td>\n",
       "        <td>Los Angeles Lakers</td>\n",
       "        <td>17</td>\n",
       "        <td>33</td>\n",
       "    </tr>\n",
       "    <tr>\n",
       "        <td>2</td>\n",
       "        <td>Golden State Warriors</td>\n",
       "        <td>6</td>\n",
       "        <td>11</td>\n",
       "    </tr>\n",
       "    <tr>\n",
       "        <td>3</td>\n",
       "        <td>Chicago Bulls</td>\n",
       "        <td>6</td>\n",
       "        <td>6</td>\n",
       "    </tr>\n",
       "    <tr>\n",
       "        <td>4</td>\n",
       "        <td>San Antonio Spurs</td>\n",
       "        <td>5</td>\n",
       "        <td>6</td>\n",
       "    </tr>\n",
       "    <tr>\n",
       "        <td>5</td>\n",
       "        <td>Philadelphia 76ers</td>\n",
       "        <td>3</td>\n",
       "        <td>9</td>\n",
       "    </tr>\n",
       "    <tr>\n",
       "        <td>6</td>\n",
       "        <td>Detroit Pistons</td>\n",
       "        <td>3</td>\n",
       "        <td>7</td>\n",
       "    </tr>\n",
       "    <tr>\n",
       "        <td>7</td>\n",
       "        <td>Miami Heat</td>\n",
       "        <td>3</td>\n",
       "        <td>6</td>\n",
       "    </tr>\n",
       "    <tr>\n",
       "        <td>8</td>\n",
       "        <td>New York Knicks</td>\n",
       "        <td>2</td>\n",
       "        <td>8</td>\n",
       "    </tr>\n",
       "    <tr>\n",
       "        <td>9</td>\n",
       "        <td>Houston Rockets</td>\n",
       "        <td>2</td>\n",
       "        <td>4</td>\n",
       "    </tr>\n",
       "</table>"
      ],
      "text/plain": [
       "[(0, 'Boston Celtics', 17, 21),\n",
       " (1, 'Los Angeles Lakers', 17, 33),\n",
       " (2, 'Golden State Warriors', 6, 11),\n",
       " (3, 'Chicago Bulls', 6, 6),\n",
       " (4, 'San Antonio Spurs', 5, 6),\n",
       " (5, 'Philadelphia 76ers', 3, 9),\n",
       " (6, 'Detroit Pistons', 3, 7),\n",
       " (7, 'Miami Heat', 3, 6),\n",
       " (8, 'New York Knicks', 2, 8),\n",
       " (9, 'Houston Rockets', 2, 4)]"
      ]
     },
     "execution_count": 12,
     "metadata": {},
     "output_type": "execute_result"
    }
   ],
   "source": [
    "%%sql\n",
    "SELECT * FROM nbaTeams #Retorna nossa tabela em linguagem SQL"
   ]
  },
  {
   "cell_type": "markdown",
   "metadata": {},
   "source": [
    "`COUNT()` é usado para contar a quantidade de 'linhas'"
   ]
  },
  {
   "cell_type": "code",
   "execution_count": 13,
   "metadata": {},
   "outputs": [
    {
     "name": "stdout",
     "output_type": "stream",
     "text": [
      " * sqlite:///data_science101.db\n",
      "Done.\n"
     ]
    },
    {
     "data": {
      "text/html": [
       "<table>\n",
       "    <tr>\n",
       "        <th>COUNT(*)</th>\n",
       "    </tr>\n",
       "    <tr>\n",
       "        <td>10</td>\n",
       "    </tr>\n",
       "</table>"
      ],
      "text/plain": [
       "[(10,)]"
      ]
     },
     "execution_count": 13,
     "metadata": {},
     "output_type": "execute_result"
    }
   ],
   "source": [
    "%%sql\n",
    "SELECT COUNT(*) FROM nbaTeams"
   ]
  },
  {
   "cell_type": "markdown",
   "metadata": {},
   "source": [
    "Usamos o `WHERE` para retornar informações específicas. Neste caso, retorna apenas os time com mais de 10 títulos"
   ]
  },
  {
   "cell_type": "code",
   "execution_count": 22,
   "metadata": {},
   "outputs": [
    {
     "name": "stdout",
     "output_type": "stream",
     "text": [
      " * sqlite:///data_science101.db\n",
      "Done.\n"
     ]
    },
    {
     "data": {
      "text/html": [
       "<table>\n",
       "    <tr>\n",
       "        <th>index</th>\n",
       "        <th>Times</th>\n",
       "        <th>Títulos</th>\n",
       "        <th>Finais</th>\n",
       "    </tr>\n",
       "    <tr>\n",
       "        <td>0</td>\n",
       "        <td>Boston Celtics</td>\n",
       "        <td>17</td>\n",
       "        <td>21</td>\n",
       "    </tr>\n",
       "    <tr>\n",
       "        <td>1</td>\n",
       "        <td>Los Angeles Lakers</td>\n",
       "        <td>17</td>\n",
       "        <td>33</td>\n",
       "    </tr>\n",
       "</table>"
      ],
      "text/plain": [
       "[(0, 'Boston Celtics', 17, 21), (1, 'Los Angeles Lakers', 17, 33)]"
      ]
     },
     "execution_count": 22,
     "metadata": {},
     "output_type": "execute_result"
    }
   ],
   "source": [
    "%%sql\n",
    "SELECT * FROM nbaTeams WHERE Títulos>10 "
   ]
  },
  {
   "cell_type": "markdown",
   "metadata": {},
   "source": [
    "Com os comandos `BETWEEN` e `AND` retornamos informação dentro de um limite. Neste caso, todos os times que participaram entre 5 ou 10 finais"
   ]
  },
  {
   "cell_type": "code",
   "execution_count": 20,
   "metadata": {},
   "outputs": [
    {
     "name": "stdout",
     "output_type": "stream",
     "text": [
      " * sqlite:///data_science101.db\n",
      "Done.\n"
     ]
    },
    {
     "data": {
      "text/html": [
       "<table>\n",
       "    <tr>\n",
       "        <th>index</th>\n",
       "        <th>Times</th>\n",
       "        <th>Títulos</th>\n",
       "        <th>Finais</th>\n",
       "    </tr>\n",
       "    <tr>\n",
       "        <td>3</td>\n",
       "        <td>Chicago Bulls</td>\n",
       "        <td>6</td>\n",
       "        <td>6</td>\n",
       "    </tr>\n",
       "    <tr>\n",
       "        <td>4</td>\n",
       "        <td>San Antonio Spurs</td>\n",
       "        <td>5</td>\n",
       "        <td>6</td>\n",
       "    </tr>\n",
       "    <tr>\n",
       "        <td>5</td>\n",
       "        <td>Philadelphia 76ers</td>\n",
       "        <td>3</td>\n",
       "        <td>9</td>\n",
       "    </tr>\n",
       "    <tr>\n",
       "        <td>6</td>\n",
       "        <td>Detroit Pistons</td>\n",
       "        <td>3</td>\n",
       "        <td>7</td>\n",
       "    </tr>\n",
       "    <tr>\n",
       "        <td>7</td>\n",
       "        <td>Miami Heat</td>\n",
       "        <td>3</td>\n",
       "        <td>6</td>\n",
       "    </tr>\n",
       "    <tr>\n",
       "        <td>8</td>\n",
       "        <td>New York Knicks</td>\n",
       "        <td>2</td>\n",
       "        <td>8</td>\n",
       "    </tr>\n",
       "</table>"
      ],
      "text/plain": [
       "[(3, 'Chicago Bulls', 6, 6),\n",
       " (4, 'San Antonio Spurs', 5, 6),\n",
       " (5, 'Philadelphia 76ers', 3, 9),\n",
       " (6, 'Detroit Pistons', 3, 7),\n",
       " (7, 'Miami Heat', 3, 6),\n",
       " (8, 'New York Knicks', 2, 8)]"
      ]
     },
     "execution_count": 20,
     "metadata": {},
     "output_type": "execute_result"
    }
   ],
   "source": [
    "%%sql\n",
    "SELECT * FROM nbaTeams WHERE Finais BETWEEN 5 AND 10 "
   ]
  },
  {
   "cell_type": "markdown",
   "metadata": {},
   "source": [
    "`ORDER BY` retornará alguma coluna em certa ordem. `asc` é ascendente e `desc` seria descendente."
   ]
  },
  {
   "cell_type": "code",
   "execution_count": 26,
   "metadata": {},
   "outputs": [
    {
     "name": "stdout",
     "output_type": "stream",
     "text": [
      " * sqlite:///data_science101.db\n",
      "Done.\n"
     ]
    },
    {
     "data": {
      "text/html": [
       "<table>\n",
       "    <tr>\n",
       "        <th>index</th>\n",
       "        <th>Times</th>\n",
       "        <th>Títulos</th>\n",
       "        <th>Finais</th>\n",
       "    </tr>\n",
       "    <tr>\n",
       "        <td>9</td>\n",
       "        <td>Houston Rockets</td>\n",
       "        <td>2</td>\n",
       "        <td>4</td>\n",
       "    </tr>\n",
       "    <tr>\n",
       "        <td>3</td>\n",
       "        <td>Chicago Bulls</td>\n",
       "        <td>6</td>\n",
       "        <td>6</td>\n",
       "    </tr>\n",
       "    <tr>\n",
       "        <td>4</td>\n",
       "        <td>San Antonio Spurs</td>\n",
       "        <td>5</td>\n",
       "        <td>6</td>\n",
       "    </tr>\n",
       "    <tr>\n",
       "        <td>7</td>\n",
       "        <td>Miami Heat</td>\n",
       "        <td>3</td>\n",
       "        <td>6</td>\n",
       "    </tr>\n",
       "    <tr>\n",
       "        <td>6</td>\n",
       "        <td>Detroit Pistons</td>\n",
       "        <td>3</td>\n",
       "        <td>7</td>\n",
       "    </tr>\n",
       "    <tr>\n",
       "        <td>8</td>\n",
       "        <td>New York Knicks</td>\n",
       "        <td>2</td>\n",
       "        <td>8</td>\n",
       "    </tr>\n",
       "    <tr>\n",
       "        <td>5</td>\n",
       "        <td>Philadelphia 76ers</td>\n",
       "        <td>3</td>\n",
       "        <td>9</td>\n",
       "    </tr>\n",
       "    <tr>\n",
       "        <td>2</td>\n",
       "        <td>Golden State Warriors</td>\n",
       "        <td>6</td>\n",
       "        <td>11</td>\n",
       "    </tr>\n",
       "    <tr>\n",
       "        <td>0</td>\n",
       "        <td>Boston Celtics</td>\n",
       "        <td>17</td>\n",
       "        <td>21</td>\n",
       "    </tr>\n",
       "    <tr>\n",
       "        <td>1</td>\n",
       "        <td>Los Angeles Lakers</td>\n",
       "        <td>17</td>\n",
       "        <td>33</td>\n",
       "    </tr>\n",
       "</table>"
      ],
      "text/plain": [
       "[(9, 'Houston Rockets', 2, 4),\n",
       " (3, 'Chicago Bulls', 6, 6),\n",
       " (4, 'San Antonio Spurs', 5, 6),\n",
       " (7, 'Miami Heat', 3, 6),\n",
       " (6, 'Detroit Pistons', 3, 7),\n",
       " (8, 'New York Knicks', 2, 8),\n",
       " (5, 'Philadelphia 76ers', 3, 9),\n",
       " (2, 'Golden State Warriors', 6, 11),\n",
       " (0, 'Boston Celtics', 17, 21),\n",
       " (1, 'Los Angeles Lakers', 17, 33)]"
      ]
     },
     "execution_count": 26,
     "metadata": {},
     "output_type": "execute_result"
    }
   ],
   "source": [
    "%%sql\n",
    "select * from nbaTeams order by Finais asc"
   ]
  },
  {
   "cell_type": "code",
   "execution_count": 27,
   "metadata": {},
   "outputs": [
    {
     "name": "stdout",
     "output_type": "stream",
     "text": [
      " * sqlite:///data_science101.db\n",
      "Done.\n"
     ]
    },
    {
     "data": {
      "text/html": [
       "<table>\n",
       "    <tr>\n",
       "        <th>index</th>\n",
       "        <th>Times</th>\n",
       "        <th>Títulos</th>\n",
       "        <th>Finais</th>\n",
       "    </tr>\n",
       "    <tr>\n",
       "        <td>1</td>\n",
       "        <td>Los Angeles Lakers</td>\n",
       "        <td>17</td>\n",
       "        <td>33</td>\n",
       "    </tr>\n",
       "    <tr>\n",
       "        <td>0</td>\n",
       "        <td>Boston Celtics</td>\n",
       "        <td>17</td>\n",
       "        <td>21</td>\n",
       "    </tr>\n",
       "    <tr>\n",
       "        <td>2</td>\n",
       "        <td>Golden State Warriors</td>\n",
       "        <td>6</td>\n",
       "        <td>11</td>\n",
       "    </tr>\n",
       "    <tr>\n",
       "        <td>5</td>\n",
       "        <td>Philadelphia 76ers</td>\n",
       "        <td>3</td>\n",
       "        <td>9</td>\n",
       "    </tr>\n",
       "    <tr>\n",
       "        <td>8</td>\n",
       "        <td>New York Knicks</td>\n",
       "        <td>2</td>\n",
       "        <td>8</td>\n",
       "    </tr>\n",
       "    <tr>\n",
       "        <td>6</td>\n",
       "        <td>Detroit Pistons</td>\n",
       "        <td>3</td>\n",
       "        <td>7</td>\n",
       "    </tr>\n",
       "    <tr>\n",
       "        <td>3</td>\n",
       "        <td>Chicago Bulls</td>\n",
       "        <td>6</td>\n",
       "        <td>6</td>\n",
       "    </tr>\n",
       "    <tr>\n",
       "        <td>4</td>\n",
       "        <td>San Antonio Spurs</td>\n",
       "        <td>5</td>\n",
       "        <td>6</td>\n",
       "    </tr>\n",
       "    <tr>\n",
       "        <td>7</td>\n",
       "        <td>Miami Heat</td>\n",
       "        <td>3</td>\n",
       "        <td>6</td>\n",
       "    </tr>\n",
       "    <tr>\n",
       "        <td>9</td>\n",
       "        <td>Houston Rockets</td>\n",
       "        <td>2</td>\n",
       "        <td>4</td>\n",
       "    </tr>\n",
       "</table>"
      ],
      "text/plain": [
       "[(1, 'Los Angeles Lakers', 17, 33),\n",
       " (0, 'Boston Celtics', 17, 21),\n",
       " (2, 'Golden State Warriors', 6, 11),\n",
       " (5, 'Philadelphia 76ers', 3, 9),\n",
       " (8, 'New York Knicks', 2, 8),\n",
       " (6, 'Detroit Pistons', 3, 7),\n",
       " (3, 'Chicago Bulls', 6, 6),\n",
       " (4, 'San Antonio Spurs', 5, 6),\n",
       " (7, 'Miami Heat', 3, 6),\n",
       " (9, 'Houston Rockets', 2, 4)]"
      ]
     },
     "execution_count": 27,
     "metadata": {},
     "output_type": "execute_result"
    }
   ],
   "source": [
    "%%sql\n",
    "select * from nbaTeams order by Finais desc"
   ]
  },
  {
   "cell_type": "markdown",
   "metadata": {},
   "source": [
    "Assim como no pandas, SQL também possui alguns métodos de estatística. \n",
    "- `min()`retornará o menor número de uma certa coluna\n",
    "- `max()` retornará o maior número de uma certa coluna\n",
    "- `avg()` retornara a média dessa coluna\n",
    "- `sum()` retornará a soma de todos os elementos dessa coluna"
   ]
  },
  {
   "cell_type": "code",
   "execution_count": 28,
   "metadata": {},
   "outputs": [
    {
     "name": "stdout",
     "output_type": "stream",
     "text": [
      " * sqlite:///data_science101.db\n",
      "Done.\n"
     ]
    },
    {
     "data": {
      "text/html": [
       "<table>\n",
       "    <tr>\n",
       "        <th>min(Títulos)</th>\n",
       "        <th>max(Títulos)</th>\n",
       "        <th>avg(Títulos)</th>\n",
       "        <th>count(*)</th>\n",
       "        <th>sum(Títulos)</th>\n",
       "    </tr>\n",
       "    <tr>\n",
       "        <td>2</td>\n",
       "        <td>17</td>\n",
       "        <td>6.4</td>\n",
       "        <td>10</td>\n",
       "        <td>64</td>\n",
       "    </tr>\n",
       "</table>"
      ],
      "text/plain": [
       "[(2, 17, 6.4, 10, 64)]"
      ]
     },
     "execution_count": 28,
     "metadata": {},
     "output_type": "execute_result"
    }
   ],
   "source": [
    "%%sql\n",
    "select min(Títulos), max(Títulos), avg(Títulos), count(*), sum(Títulos) from nbaTeams"
   ]
  },
  {
   "cell_type": "markdown",
   "metadata": {},
   "source": [
    "Se quisermos inserer novas informações podemos usar o comando `INSERT INTO` colocando o nome das colunas e seus valores(`values`) em seguida."
   ]
  },
  {
   "cell_type": "code",
   "execution_count": 33,
   "metadata": {},
   "outputs": [
    {
     "name": "stdout",
     "output_type": "stream",
     "text": [
      " * sqlite:///data_science101.db\n",
      "1 rows affected.\n"
     ]
    },
    {
     "data": {
      "text/plain": [
       "[]"
      ]
     },
     "execution_count": 33,
     "metadata": {},
     "output_type": "execute_result"
    }
   ],
   "source": [
    "%%sql\n",
    "insert into nbaTeams(Times, Títulos, Finais) values(\"Toronto Raptors\", 1, 1)"
   ]
  },
  {
   "cell_type": "code",
   "execution_count": 34,
   "metadata": {},
   "outputs": [
    {
     "name": "stdout",
     "output_type": "stream",
     "text": [
      " * sqlite:///data_science101.db\n",
      "Done.\n"
     ]
    },
    {
     "data": {
      "text/html": [
       "<table>\n",
       "    <tr>\n",
       "        <th>index</th>\n",
       "        <th>Times</th>\n",
       "        <th>Títulos</th>\n",
       "        <th>Finais</th>\n",
       "    </tr>\n",
       "    <tr>\n",
       "        <td>0</td>\n",
       "        <td>Boston Celtics</td>\n",
       "        <td>17</td>\n",
       "        <td>21</td>\n",
       "    </tr>\n",
       "    <tr>\n",
       "        <td>1</td>\n",
       "        <td>Los Angeles Lakers</td>\n",
       "        <td>17</td>\n",
       "        <td>33</td>\n",
       "    </tr>\n",
       "    <tr>\n",
       "        <td>2</td>\n",
       "        <td>Golden State Warriors</td>\n",
       "        <td>6</td>\n",
       "        <td>11</td>\n",
       "    </tr>\n",
       "    <tr>\n",
       "        <td>3</td>\n",
       "        <td>Chicago Bulls</td>\n",
       "        <td>6</td>\n",
       "        <td>6</td>\n",
       "    </tr>\n",
       "    <tr>\n",
       "        <td>4</td>\n",
       "        <td>San Antonio Spurs</td>\n",
       "        <td>5</td>\n",
       "        <td>6</td>\n",
       "    </tr>\n",
       "    <tr>\n",
       "        <td>5</td>\n",
       "        <td>Philadelphia 76ers</td>\n",
       "        <td>3</td>\n",
       "        <td>9</td>\n",
       "    </tr>\n",
       "    <tr>\n",
       "        <td>6</td>\n",
       "        <td>Detroit Pistons</td>\n",
       "        <td>3</td>\n",
       "        <td>7</td>\n",
       "    </tr>\n",
       "    <tr>\n",
       "        <td>7</td>\n",
       "        <td>Miami Heat</td>\n",
       "        <td>3</td>\n",
       "        <td>6</td>\n",
       "    </tr>\n",
       "    <tr>\n",
       "        <td>8</td>\n",
       "        <td>New York Knicks</td>\n",
       "        <td>2</td>\n",
       "        <td>8</td>\n",
       "    </tr>\n",
       "    <tr>\n",
       "        <td>9</td>\n",
       "        <td>Houston Rockets</td>\n",
       "        <td>2</td>\n",
       "        <td>4</td>\n",
       "    </tr>\n",
       "    <tr>\n",
       "        <td>None</td>\n",
       "        <td>Toronto Raptors</td>\n",
       "        <td>1</td>\n",
       "        <td>1</td>\n",
       "    </tr>\n",
       "</table>"
      ],
      "text/plain": [
       "[(0, 'Boston Celtics', 17, 21),\n",
       " (1, 'Los Angeles Lakers', 17, 33),\n",
       " (2, 'Golden State Warriors', 6, 11),\n",
       " (3, 'Chicago Bulls', 6, 6),\n",
       " (4, 'San Antonio Spurs', 5, 6),\n",
       " (5, 'Philadelphia 76ers', 3, 9),\n",
       " (6, 'Detroit Pistons', 3, 7),\n",
       " (7, 'Miami Heat', 3, 6),\n",
       " (8, 'New York Knicks', 2, 8),\n",
       " (9, 'Houston Rockets', 2, 4),\n",
       " (None, 'Toronto Raptors', 1, 1)]"
      ]
     },
     "execution_count": 34,
     "metadata": {},
     "output_type": "execute_result"
    }
   ],
   "source": [
    "%%sql\n",
    "SELECT * FROM nbaTeams"
   ]
  },
  {
   "cell_type": "markdown",
   "metadata": {},
   "source": [
    "### Até a próxima aula e bons estudos!\n",
    "## Ana Beatriz Macedo\n",
    "![blue-divider](https://user-images.githubusercontent.com/7065401/52071924-c003ad80-2562-11e9-8297-1c6595f8a7ff.png)"
   ]
  }
 ],
 "metadata": {
  "kernelspec": {
   "display_name": "Python 3",
   "language": "python",
   "name": "python3"
  },
  "language_info": {
   "codemirror_mode": {
    "name": "ipython",
    "version": 3
   },
   "file_extension": ".py",
   "mimetype": "text/x-python",
   "name": "python",
   "nbconvert_exporter": "python",
   "pygments_lexer": "ipython3",
   "version": "3.8.5"
  }
 },
 "nbformat": 4,
 "nbformat_minor": 4
}
