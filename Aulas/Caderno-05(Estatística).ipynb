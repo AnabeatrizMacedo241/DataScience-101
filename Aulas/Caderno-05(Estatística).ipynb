{
 "cells": [
  {
   "cell_type": "markdown",
   "metadata": {},
   "source": [
    "# Introdução Data Science - Ana Beatriz Macedo<img src=\"https://octocat-generator-assets.githubusercontent.com/my-octocat-1626096942740.png\" width=\"324\" height=\"324\" align=\"right\">\n",
    "## Link para download: https://github.com/AnabeatrizMacedo241/DataScience-101\n",
    "## Github: https://github.com/AnabeatrizMacedo241\n",
    "## Linkedin: https://www.linkedin.com/in/ana-beatriz-oliveira-de-macedo-85b05b215/\n",
    "![yellow-divider](https://user-images.githubusercontent.com/7065401/52071924-c003ad80-2562-11e9-8297-1c6595f8a7ff.png)"
   ]
  },
  {
   "cell_type": "markdown",
   "metadata": {},
   "source": [
    "### Estatística em Python\n",
    "#### Bibliotecas recomendadas para estatística: \n",
    "Python, NumPy, SciPy, Pandas, Matplotlib, Seaborn, math, statistics"
   ]
  },
  {
   "cell_type": "code",
   "execution_count": 63,
   "metadata": {},
   "outputs": [],
   "source": [
    "import math\n",
    "import statistics\n",
    "import numpy as np\n",
    "import scipy.stats"
   ]
  },
  {
   "cell_type": "code",
   "execution_count": 29,
   "metadata": {},
   "outputs": [
    {
     "data": {
      "text/html": [
       "<div>\n",
       "<style scoped>\n",
       "    .dataframe tbody tr th:only-of-type {\n",
       "        vertical-align: middle;\n",
       "    }\n",
       "\n",
       "    .dataframe tbody tr th {\n",
       "        vertical-align: top;\n",
       "    }\n",
       "\n",
       "    .dataframe thead th {\n",
       "        text-align: right;\n",
       "    }\n",
       "</style>\n",
       "<table border=\"1\" class=\"dataframe\">\n",
       "  <thead>\n",
       "    <tr style=\"text-align: right;\">\n",
       "      <th></th>\n",
       "      <th>Id</th>\n",
       "      <th>Turma</th>\n",
       "      <th>Sexo</th>\n",
       "      <th>Idade</th>\n",
       "      <th>Alt</th>\n",
       "      <th>Peso</th>\n",
       "      <th>Filhos</th>\n",
       "      <th>Fuma</th>\n",
       "    </tr>\n",
       "  </thead>\n",
       "  <tbody>\n",
       "    <tr>\n",
       "      <th>0</th>\n",
       "      <td>2</td>\n",
       "      <td>A</td>\n",
       "      <td>F</td>\n",
       "      <td>18</td>\n",
       "      <td>1.69</td>\n",
       "      <td>55.0</td>\n",
       "      <td>1</td>\n",
       "      <td>NAO</td>\n",
       "    </tr>\n",
       "    <tr>\n",
       "      <th>1</th>\n",
       "      <td>3</td>\n",
       "      <td>A</td>\n",
       "      <td>M</td>\n",
       "      <td>18</td>\n",
       "      <td>1.85</td>\n",
       "      <td>72.8</td>\n",
       "      <td>2</td>\n",
       "      <td>NAO</td>\n",
       "    </tr>\n",
       "    <tr>\n",
       "      <th>2</th>\n",
       "      <td>4</td>\n",
       "      <td>A</td>\n",
       "      <td>M</td>\n",
       "      <td>25</td>\n",
       "      <td>1.85</td>\n",
       "      <td>80.9</td>\n",
       "      <td>2</td>\n",
       "      <td>NAO</td>\n",
       "    </tr>\n",
       "    <tr>\n",
       "      <th>3</th>\n",
       "      <td>5</td>\n",
       "      <td>A</td>\n",
       "      <td>F</td>\n",
       "      <td>19</td>\n",
       "      <td>1.58</td>\n",
       "      <td>55.0</td>\n",
       "      <td>1</td>\n",
       "      <td>NAO</td>\n",
       "    </tr>\n",
       "    <tr>\n",
       "      <th>4</th>\n",
       "      <td>6</td>\n",
       "      <td>A</td>\n",
       "      <td>M</td>\n",
       "      <td>19</td>\n",
       "      <td>1.76</td>\n",
       "      <td>60.0</td>\n",
       "      <td>3</td>\n",
       "      <td>NAO</td>\n",
       "    </tr>\n",
       "    <tr>\n",
       "      <th>5</th>\n",
       "      <td>7</td>\n",
       "      <td>A</td>\n",
       "      <td>F</td>\n",
       "      <td>20</td>\n",
       "      <td>1.60</td>\n",
       "      <td>58.0</td>\n",
       "      <td>1</td>\n",
       "      <td>NAO</td>\n",
       "    </tr>\n",
       "    <tr>\n",
       "      <th>6</th>\n",
       "      <td>8</td>\n",
       "      <td>A</td>\n",
       "      <td>F</td>\n",
       "      <td>18</td>\n",
       "      <td>1.64</td>\n",
       "      <td>47.0</td>\n",
       "      <td>1</td>\n",
       "      <td>SIM</td>\n",
       "    </tr>\n",
       "    <tr>\n",
       "      <th>7</th>\n",
       "      <td>9</td>\n",
       "      <td>A</td>\n",
       "      <td>F</td>\n",
       "      <td>18</td>\n",
       "      <td>1.62</td>\n",
       "      <td>57.8</td>\n",
       "      <td>3</td>\n",
       "      <td>NAO</td>\n",
       "    </tr>\n",
       "    <tr>\n",
       "      <th>8</th>\n",
       "      <td>10</td>\n",
       "      <td>A</td>\n",
       "      <td>F</td>\n",
       "      <td>17</td>\n",
       "      <td>1.64</td>\n",
       "      <td>58.0</td>\n",
       "      <td>2</td>\n",
       "      <td>NAO</td>\n",
       "    </tr>\n",
       "  </tbody>\n",
       "</table>\n",
       "</div>"
      ],
      "text/plain": [
       "   Id Turma Sexo  Idade   Alt  Peso  Filhos Fuma\n",
       "0   2     A    F     18  1.69  55.0       1  NAO\n",
       "1   3     A    M     18  1.85  72.8       2  NAO\n",
       "2   4     A    M     25  1.85  80.9       2  NAO\n",
       "3   5     A    F     19  1.58  55.0       1  NAO\n",
       "4   6     A    M     19  1.76  60.0       3  NAO\n",
       "5   7     A    F     20  1.60  58.0       1  NAO\n",
       "6   8     A    F     18  1.64  47.0       1  SIM\n",
       "7   9     A    F     18  1.62  57.8       3  NAO\n",
       "8  10     A    F     17  1.64  58.0       2  NAO"
      ]
     },
     "execution_count": 29,
     "metadata": {},
     "output_type": "execute_result"
    }
   ],
   "source": [
    "import pandas as pd\n",
    "import re\n",
    "dados = pd.read_csv('Dados-Estatisticos.csv', sep=';')\n",
    "dados"
   ]
  },
  {
   "cell_type": "markdown",
   "metadata": {},
   "source": [
    "0. `.describe()` é utilizado para dar um 'resumo estatístico' de datasets. \n",
    "1. `count` é o número de informações por categoria.\n",
    "2. `mean` é a média de cada coluna.\n",
    "3. `std` é o Desvio padrão da coluna.\n",
    "4. `min` é o menor número da coluna.\n",
    "5. `25` o primeiro quarti. Representa os 25% mais baixos dos valores.\n",
    "6. `50%` seria o segundo quartil. Representa os 50% mais baixos dos valores.\n",
    "7. `75%` seria o terceiro quartil. Representa os 75% mais baixos dos valores.\n",
    "8. `max` é o maior número da coluna."
   ]
  },
  {
   "cell_type": "code",
   "execution_count": 30,
   "metadata": {},
   "outputs": [
    {
     "data": {
      "text/html": [
       "<div>\n",
       "<style scoped>\n",
       "    .dataframe tbody tr th:only-of-type {\n",
       "        vertical-align: middle;\n",
       "    }\n",
       "\n",
       "    .dataframe tbody tr th {\n",
       "        vertical-align: top;\n",
       "    }\n",
       "\n",
       "    .dataframe thead th {\n",
       "        text-align: right;\n",
       "    }\n",
       "</style>\n",
       "<table border=\"1\" class=\"dataframe\">\n",
       "  <thead>\n",
       "    <tr style=\"text-align: right;\">\n",
       "      <th></th>\n",
       "      <th>Id</th>\n",
       "      <th>Idade</th>\n",
       "      <th>Alt</th>\n",
       "      <th>Peso</th>\n",
       "      <th>Filhos</th>\n",
       "    </tr>\n",
       "  </thead>\n",
       "  <tbody>\n",
       "    <tr>\n",
       "      <th>count</th>\n",
       "      <td>9.000000</td>\n",
       "      <td>9.000000</td>\n",
       "      <td>9.000000</td>\n",
       "      <td>9.000000</td>\n",
       "      <td>9.000000</td>\n",
       "    </tr>\n",
       "    <tr>\n",
       "      <th>mean</th>\n",
       "      <td>6.000000</td>\n",
       "      <td>19.111111</td>\n",
       "      <td>1.692222</td>\n",
       "      <td>60.500000</td>\n",
       "      <td>1.777778</td>\n",
       "    </tr>\n",
       "    <tr>\n",
       "      <th>std</th>\n",
       "      <td>2.738613</td>\n",
       "      <td>2.368778</td>\n",
       "      <td>0.103776</td>\n",
       "      <td>10.187247</td>\n",
       "      <td>0.833333</td>\n",
       "    </tr>\n",
       "    <tr>\n",
       "      <th>min</th>\n",
       "      <td>2.000000</td>\n",
       "      <td>17.000000</td>\n",
       "      <td>1.580000</td>\n",
       "      <td>47.000000</td>\n",
       "      <td>1.000000</td>\n",
       "    </tr>\n",
       "    <tr>\n",
       "      <th>25%</th>\n",
       "      <td>4.000000</td>\n",
       "      <td>18.000000</td>\n",
       "      <td>1.620000</td>\n",
       "      <td>55.000000</td>\n",
       "      <td>1.000000</td>\n",
       "    </tr>\n",
       "    <tr>\n",
       "      <th>50%</th>\n",
       "      <td>6.000000</td>\n",
       "      <td>18.000000</td>\n",
       "      <td>1.640000</td>\n",
       "      <td>58.000000</td>\n",
       "      <td>2.000000</td>\n",
       "    </tr>\n",
       "    <tr>\n",
       "      <th>75%</th>\n",
       "      <td>8.000000</td>\n",
       "      <td>19.000000</td>\n",
       "      <td>1.760000</td>\n",
       "      <td>60.000000</td>\n",
       "      <td>2.000000</td>\n",
       "    </tr>\n",
       "    <tr>\n",
       "      <th>max</th>\n",
       "      <td>10.000000</td>\n",
       "      <td>25.000000</td>\n",
       "      <td>1.850000</td>\n",
       "      <td>80.900000</td>\n",
       "      <td>3.000000</td>\n",
       "    </tr>\n",
       "  </tbody>\n",
       "</table>\n",
       "</div>"
      ],
      "text/plain": [
       "              Id      Idade       Alt       Peso    Filhos\n",
       "count   9.000000   9.000000  9.000000   9.000000  9.000000\n",
       "mean    6.000000  19.111111  1.692222  60.500000  1.777778\n",
       "std     2.738613   2.368778  0.103776  10.187247  0.833333\n",
       "min     2.000000  17.000000  1.580000  47.000000  1.000000\n",
       "25%     4.000000  18.000000  1.620000  55.000000  1.000000\n",
       "50%     6.000000  18.000000  1.640000  58.000000  2.000000\n",
       "75%     8.000000  19.000000  1.760000  60.000000  2.000000\n",
       "max    10.000000  25.000000  1.850000  80.900000  3.000000"
      ]
     },
     "execution_count": 30,
     "metadata": {},
     "output_type": "execute_result"
    }
   ],
   "source": [
    "dados.describe()"
   ]
  },
  {
   "cell_type": "code",
   "execution_count": 65,
   "metadata": {},
   "outputs": [
    {
     "data": {
      "text/plain": [
       "1.6922222222222223"
      ]
     },
     "execution_count": 65,
     "metadata": {},
     "output_type": "execute_result"
    }
   ],
   "source": [
    "dados['Alt'].mean() #Também podemos calcular individualmente"
   ]
  },
  {
   "cell_type": "code",
   "execution_count": 72,
   "metadata": {},
   "outputs": [
    {
     "data": {
      "text/plain": [
       "Id          7.500000\n",
       "Idade       5.611111\n",
       "Alt         0.010769\n",
       "Peso      103.780000\n",
       "Filhos      0.694444\n",
       "dtype: float64"
      ]
     },
     "execution_count": 72,
     "metadata": {},
     "output_type": "execute_result"
    }
   ],
   "source": [
    "dados.var() #Variância"
   ]
  },
  {
   "attachments": {},
   "cell_type": "markdown",
   "metadata": {},
   "source": [
    "`pstdev()` : Desvio padrão da população de dados.\n",
    "\n",
    "`pvariance()` : Variância populacional dos dados.\n",
    "\n",
    "`stdev()` : Desvio padrão da amostra de dados.\n",
    "\n",
    "`variance()` : Variância de amostra de dados."
   ]
  },
  {
   "cell_type": "code",
   "execution_count": 83,
   "metadata": {},
   "outputs": [
    {
     "data": {
      "text/plain": [
       "9.60462851384107"
      ]
     },
     "execution_count": 83,
     "metadata": {},
     "output_type": "execute_result"
    }
   ],
   "source": [
    "statistics.pstdev(dados['Peso'])"
   ]
  },
  {
   "cell_type": "code",
   "execution_count": 82,
   "metadata": {},
   "outputs": [
    {
     "data": {
      "text/plain": [
       "0.009572839506172843"
      ]
     },
     "execution_count": 82,
     "metadata": {},
     "output_type": "execute_result"
    }
   ],
   "source": [
    "statistics.pvariance(dados['Alt'])"
   ]
  },
  {
   "cell_type": "code",
   "execution_count": 84,
   "metadata": {},
   "outputs": [
    {
     "data": {
      "text/plain": [
       "0.10377593384038733"
      ]
     },
     "execution_count": 84,
     "metadata": {},
     "output_type": "execute_result"
    }
   ],
   "source": [
    "statistics.stdev(dados['Alt'])"
   ]
  },
  {
   "cell_type": "code",
   "execution_count": 85,
   "metadata": {},
   "outputs": [
    {
     "data": {
      "text/plain": [
       "5.611111111111112"
      ]
     },
     "execution_count": 85,
     "metadata": {},
     "output_type": "execute_result"
    }
   ],
   "source": [
    "statistics.variance(dados['Idade'])"
   ]
  },
  {
   "cell_type": "code",
   "execution_count": 90,
   "metadata": {},
   "outputs": [
    {
     "data": {
      "text/plain": [
       "0   -0.021412\n",
       "1    1.520372\n",
       "2    1.520372\n",
       "3   -1.081388\n",
       "4    0.653119\n",
       "5   -0.888665\n",
       "6   -0.503219\n",
       "7   -0.695942\n",
       "8   -0.503219\n",
       "Name: Alt, dtype: float64"
      ]
     },
     "execution_count": 90,
     "metadata": {},
     "output_type": "execute_result"
    }
   ],
   "source": [
    "#zscore() = (x - mean) / stdev\n",
    "zscore=(x - 1.692222) / 0.10377593384038733\n",
    "zscore"
   ]
  },
  {
   "cell_type": "code",
   "execution_count": 92,
   "metadata": {},
   "outputs": [
    {
     "name": "stdout",
     "output_type": "stream",
     "text": [
      "[1.58 1.62 1.64 1.76 1.85]\n"
     ]
    }
   ],
   "source": [
    "#Calculando quantis\n",
    "print(np.quantile(dados['Alt'], [0,0.25,0.5,0.75,1]))"
   ]
  },
  {
   "cell_type": "code",
   "execution_count": 94,
   "metadata": {},
   "outputs": [
    {
     "name": "stdout",
     "output_type": "stream",
     "text": [
      "            var       std\n",
      "Idade                    \n",
      "17          NaN       NaN\n",
      "18     0.916667  0.957427\n",
      "19     2.000000  1.414214\n",
      "20          NaN       NaN\n",
      "25          NaN       NaN\n"
     ]
    }
   ],
   "source": [
    "print(dados.groupby('Idade')['Filhos'].agg([np.var, np.std]))"
   ]
  },
  {
   "cell_type": "code",
   "execution_count": 95,
   "metadata": {},
   "outputs": [
    {
     "name": "stdout",
     "output_type": "stream",
     "text": [
      "Idade\n",
      "17    2\n",
      "18    7\n",
      "19    4\n",
      "20    1\n",
      "25    2\n",
      "Name: Filhos, dtype: int64\n"
     ]
    }
   ],
   "source": [
    "filhos_por_idade = dados.groupby('Idade')['Filhos'].sum()\n",
    "print(filhos_por_idade)"
   ]
  },
  {
   "cell_type": "code",
   "execution_count": 97,
   "metadata": {},
   "outputs": [
    {
     "data": {
      "text/plain": [
       "2.0"
      ]
     },
     "execution_count": 97,
     "metadata": {},
     "output_type": "execute_result"
    }
   ],
   "source": [
    "#Calculando o primeiro e terceiro quartis e a Amplitude interquartil\n",
    "q1 = np.quantile(filhos_por_idade, 0.25)\n",
    "q3 = np.quantile(filhos_por_idade, 0.75)\n",
    "amplitude = q3-q1\n",
    "amplitude"
   ]
  },
  {
   "cell_type": "code",
   "execution_count": 99,
   "metadata": {},
   "outputs": [
    {
     "data": {
      "text/plain": [
       "7.0"
      ]
     },
     "execution_count": 99,
     "metadata": {},
     "output_type": "execute_result"
    }
   ],
   "source": [
    "#Calculando corte superior e inferior para outliers\n",
    "superior = q3+1.5*amplitude\n",
    "inferior = q1+1.5*amplitude\n",
    "superior"
   ]
  },
  {
   "cell_type": "code",
   "execution_count": 100,
   "metadata": {},
   "outputs": [
    {
     "data": {
      "text/plain": [
       "5.0"
      ]
     },
     "execution_count": 100,
     "metadata": {},
     "output_type": "execute_result"
    }
   ],
   "source": [
    "inferior"
   ]
  },
  {
   "cell_type": "code",
   "execution_count": 38,
   "metadata": {},
   "outputs": [],
   "source": [
    "import matplotlib.pyplot as plt\n",
    "import seaborn as sns"
   ]
  },
  {
   "cell_type": "code",
   "execution_count": 62,
   "metadata": {},
   "outputs": [
    {
     "data": {
      "image/png": "[encoded data removed]",
      "text/plain": [
       "<Figure size 576x360 with 1 Axes>"
      ]
     },
     "metadata": {
      "needs_background": "light"
     },
     "output_type": "display_data"
    }
   ],
   "source": [
    "plt.figure(figsize=(8,5))\n",
    "fig1 = sns.scatterplot(data=dados, x='Peso', y='Alt', hue='Sexo', style='Fuma')"
   ]
  },
  {
   "cell_type": "code",
   "execution_count": 110,
   "metadata": {},
   "outputs": [
    {
     "data": {
      "text/plain": [
       "<AxesSubplot:xlabel='Fuma', ylabel='Count'>"
      ]
     },
     "execution_count": 110,
     "metadata": {},
     "output_type": "execute_result"
    },
    {
     "data": {
      "image/png": "[encoded data removed]",
      "text/plain": [
       "<Figure size 432x288 with 1 Axes>"
      ]
     },
     "metadata": {
      "needs_background": "light"
     },
     "output_type": "display_data"
    }
   ],
   "source": [
    "sns.histplot(data=dados, x='Fuma', hue='Sexo', multiple='dodge', shrink=.8)"
   ]
  },
  {
   "cell_type": "code",
   "execution_count": 113,
   "metadata": {},
   "outputs": [
    {
     "data": {
      "text/plain": [
       "0    19.257029\n",
       "1    21.271001\n",
       "2    23.637692\n",
       "3    22.031726\n",
       "4    19.369835\n",
       "5    22.656250\n",
       "6    17.474717\n",
       "7    22.024082\n",
       "8    21.564545\n",
       "dtype: float64"
      ]
     },
     "execution_count": 113,
     "metadata": {},
     "output_type": "execute_result"
    }
   ],
   "source": [
    "#Calculando o IMC\n",
    "imc = dados['Peso'] / dados['Alt']**2\n",
    "imc"
   ]
  },
  {
   "cell_type": "code",
   "execution_count": 120,
   "metadata": {},
   "outputs": [
    {
     "data": {
      "text/html": [
       "<div>\n",
       "<style scoped>\n",
       "    .dataframe tbody tr th:only-of-type {\n",
       "        vertical-align: middle;\n",
       "    }\n",
       "\n",
       "    .dataframe tbody tr th {\n",
       "        vertical-align: top;\n",
       "    }\n",
       "\n",
       "    .dataframe thead th {\n",
       "        text-align: right;\n",
       "    }\n",
       "</style>\n",
       "<table border=\"1\" class=\"dataframe\">\n",
       "  <thead>\n",
       "    <tr style=\"text-align: right;\">\n",
       "      <th></th>\n",
       "      <th>Id</th>\n",
       "      <th>Turma</th>\n",
       "      <th>Sexo</th>\n",
       "      <th>Idade</th>\n",
       "      <th>Alt</th>\n",
       "      <th>Peso</th>\n",
       "      <th>Filhos</th>\n",
       "      <th>Fuma</th>\n",
       "      <th>IMC</th>\n",
       "    </tr>\n",
       "  </thead>\n",
       "  <tbody>\n",
       "    <tr>\n",
       "      <th>0</th>\n",
       "      <td>2</td>\n",
       "      <td>A</td>\n",
       "      <td>F</td>\n",
       "      <td>18</td>\n",
       "      <td>1.69</td>\n",
       "      <td>55.0</td>\n",
       "      <td>1</td>\n",
       "      <td>NAO</td>\n",
       "      <td>19.257029</td>\n",
       "    </tr>\n",
       "    <tr>\n",
       "      <th>1</th>\n",
       "      <td>3</td>\n",
       "      <td>A</td>\n",
       "      <td>M</td>\n",
       "      <td>18</td>\n",
       "      <td>1.85</td>\n",
       "      <td>72.8</td>\n",
       "      <td>2</td>\n",
       "      <td>NAO</td>\n",
       "      <td>21.271001</td>\n",
       "    </tr>\n",
       "    <tr>\n",
       "      <th>2</th>\n",
       "      <td>4</td>\n",
       "      <td>A</td>\n",
       "      <td>M</td>\n",
       "      <td>25</td>\n",
       "      <td>1.85</td>\n",
       "      <td>80.9</td>\n",
       "      <td>2</td>\n",
       "      <td>NAO</td>\n",
       "      <td>23.637692</td>\n",
       "    </tr>\n",
       "    <tr>\n",
       "      <th>3</th>\n",
       "      <td>5</td>\n",
       "      <td>A</td>\n",
       "      <td>F</td>\n",
       "      <td>19</td>\n",
       "      <td>1.58</td>\n",
       "      <td>55.0</td>\n",
       "      <td>1</td>\n",
       "      <td>NAO</td>\n",
       "      <td>22.031726</td>\n",
       "    </tr>\n",
       "    <tr>\n",
       "      <th>4</th>\n",
       "      <td>6</td>\n",
       "      <td>A</td>\n",
       "      <td>M</td>\n",
       "      <td>19</td>\n",
       "      <td>1.76</td>\n",
       "      <td>60.0</td>\n",
       "      <td>3</td>\n",
       "      <td>NAO</td>\n",
       "      <td>19.369835</td>\n",
       "    </tr>\n",
       "    <tr>\n",
       "      <th>5</th>\n",
       "      <td>7</td>\n",
       "      <td>A</td>\n",
       "      <td>F</td>\n",
       "      <td>20</td>\n",
       "      <td>1.60</td>\n",
       "      <td>58.0</td>\n",
       "      <td>1</td>\n",
       "      <td>NAO</td>\n",
       "      <td>22.656250</td>\n",
       "    </tr>\n",
       "    <tr>\n",
       "      <th>6</th>\n",
       "      <td>8</td>\n",
       "      <td>A</td>\n",
       "      <td>F</td>\n",
       "      <td>18</td>\n",
       "      <td>1.64</td>\n",
       "      <td>47.0</td>\n",
       "      <td>1</td>\n",
       "      <td>SIM</td>\n",
       "      <td>17.474717</td>\n",
       "    </tr>\n",
       "    <tr>\n",
       "      <th>7</th>\n",
       "      <td>9</td>\n",
       "      <td>A</td>\n",
       "      <td>F</td>\n",
       "      <td>18</td>\n",
       "      <td>1.62</td>\n",
       "      <td>57.8</td>\n",
       "      <td>3</td>\n",
       "      <td>NAO</td>\n",
       "      <td>22.024082</td>\n",
       "    </tr>\n",
       "    <tr>\n",
       "      <th>8</th>\n",
       "      <td>10</td>\n",
       "      <td>A</td>\n",
       "      <td>F</td>\n",
       "      <td>17</td>\n",
       "      <td>1.64</td>\n",
       "      <td>58.0</td>\n",
       "      <td>2</td>\n",
       "      <td>NAO</td>\n",
       "      <td>21.564545</td>\n",
       "    </tr>\n",
       "  </tbody>\n",
       "</table>\n",
       "</div>"
      ],
      "text/plain": [
       "   Id Turma Sexo  Idade   Alt  Peso  Filhos Fuma        IMC\n",
       "0   2     A    F     18  1.69  55.0       1  NAO  19.257029\n",
       "1   3     A    M     18  1.85  72.8       2  NAO  21.271001\n",
       "2   4     A    M     25  1.85  80.9       2  NAO  23.637692\n",
       "3   5     A    F     19  1.58  55.0       1  NAO  22.031726\n",
       "4   6     A    M     19  1.76  60.0       3  NAO  19.369835\n",
       "5   7     A    F     20  1.60  58.0       1  NAO  22.656250\n",
       "6   8     A    F     18  1.64  47.0       1  SIM  17.474717\n",
       "7   9     A    F     18  1.62  57.8       3  NAO  22.024082\n",
       "8  10     A    F     17  1.64  58.0       2  NAO  21.564545"
      ]
     },
     "execution_count": 120,
     "metadata": {},
     "output_type": "execute_result"
    }
   ],
   "source": [
    "dados['IMC']=imc\n",
    "dados"
   ]
  },
  {
   "cell_type": "code",
   "execution_count": 131,
   "metadata": {},
   "outputs": [
    {
     "name": "stdout",
     "output_type": "stream",
     "text": [
      "Saudável\n",
      "Saudável\n",
      "Saudável\n",
      "Saudável\n",
      "Saudável\n",
      "Saudável\n",
      "Magreza leve\n",
      "Saudável\n",
      "Saudável\n"
     ]
    }
   ],
   "source": [
    "for imc in dados['IMC']:\n",
    "    if imc < 16:\n",
    "        print(\"Magreza grave\")\n",
    "    elif imc < 17:\n",
    "        print(\"Magreza moderada\")\n",
    "    elif imc < 18.5:\n",
    "        print(\"Magreza leve\")\n",
    "    elif imc < 25:\n",
    "        print(\"Saudável\")\n",
    "    else:\n",
    "        print(\"Sobrepeso\")"
   ]
  },
  {
   "cell_type": "markdown",
   "metadata": {},
   "source": [
    "### Até a próxima aula e bons estudos!\n",
    "## Ana Beatriz Macedo\n",
    "![blue-divider](https://user-images.githubusercontent.com/7065401/52071924-c003ad80-2562-11e9-8297-1c6595f8a7ff.png)"
   ]
  }
 ],
 "metadata": {
  "kernelspec": {
   "display_name": "Python 3",
   "language": "python",
   "name": "python3"
  },
  "language_info": {
   "codemirror_mode": {
    "name": "ipython",
    "version": 3
   },
   "file_extension": ".py",
   "mimetype": "text/x-python",
   "name": "python",
   "nbconvert_exporter": "python",
   "pygments_lexer": "ipython3",
   "version": "3.8.5"
  }
 },
 "nbformat": 4,
 "nbformat_minor": 4
}
